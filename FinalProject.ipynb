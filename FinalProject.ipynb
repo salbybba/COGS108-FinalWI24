{
 "cells": [
  {
   "cell_type": "markdown",
   "metadata": {},
   "source": [
    "# COGS 108 - Correlation Between Clothing Fit Satisfaction and User Characteristics\n",
    "\n",
    "##### Video Link: https://drive.google.com/file/d/1K65YtWs5AZ6aC-TRVpO5wBNjJZjluvkF/view?usp=sharing\n",
    "\n",
    "# Permissions\n",
    "\n",
    "Place an `X` in the appropriate bracket below to specify if you would like your group's project to be made available to the public. (Note that student names will be included (but PIDs will be scraped from any groups who include their PIDs).\n",
    "\n",
    "* [ X ] YES - make available\n",
    "* [  ] NO - keep private\n",
    "\n",
    "# Names\n",
    "\n",
    "- Abigail Blas\n",
    "- Carter Jacobus\n",
    "- Jasmine Lo\n",
    "- Christine Wu\n",
    "- Shuming Zhang\n",
    "\n",
    "# Abstract\n",
    "\n",
    "This study investigates the intricate relationship that exists in the online fashion retail market between consumer feedback, body measurements, and clothing fit satisfaction. Drawing on previous research findings, particularly Wall's studies of fit semantics deconstruction and clothing performance correlates, we conducted a complete analysis to fill information gaps concerning the elements influencing online clothing consumer satisfaction.\n",
    "\n",
    "The process included rigorous data cleaning and exploratory study using datasets from Modcloth and Renttherunway. Contrary to initial expectations, our findings revealed an unexpected lack of a significant association between garment fit satisfaction and body measurements. Rather, our investigation highlighted the crucial role that user-provided feedback—in particular, sentiment analysis—plays in detecting underlying sentiments and how they affect consumer satisfaction levels.\n",
    "\n",
    "Review length did not reveal a consistent and substantial relationship with satisfaction scores, contradicting conventional beliefs. Nonetheless, sentiment analysis proved to be the most effective prediction model, with accuracy values ranging from 41% to 65% across multiple datasets. This underlines the importance of feedback content in forecasting customer happiness, rather than duration.\n",
    "\n",
    "To summarize, our findings provide important insights into the dynamics of product satisfaction and consumer behavior in online fashion retail. Even if the initial assumptions were proven incorrect, the unexpected findings contribute to our understanding of the complex dynamics at work when assessing customer satisfaction in connection to apparel fit."
   ]
  },
  {
   "cell_type": "markdown",
   "metadata": {},
   "source": [
    "# Research Question"
   ]
  },
  {
   "cell_type": "markdown",
   "metadata": {},
   "source": [
    "Is there an association between clothing fit satisfaction (as measured by ratings) and the customers' user-provided feedback (as measured by feedback length) or their body measurements?"
   ]
  },
  {
   "cell_type": "markdown",
   "metadata": {},
   "source": [
    "## Background and Prior Work"
   ]
  },
  {
   "cell_type": "markdown",
   "metadata": {},
   "source": [
    "Understanding consumer satisfaction and ratings is essential in the fashion industry, as these metrics reflect the complex relationship between product performance and consumer expectations. A variety of factors, including quality, fit, style, and price influence consumer satisfaction. Rating, on the other hand, offers a quantifiable measure of satisfaction, which provides insights into consumers' preferences and purchasing behaviors. To explore the impact of user characteristics on clothing ratings, the study \"Correlates of Satisfaction and Dissatisfaction With Clothing Performance\" by Wall (1978) delves into the multifaceted nature of consumer satisfaction. This research emphasizes that demographic factors, activities, interests, opinions (AIOs), product knowledge, and experience are playing a significant role in shaping consumer satisfaction. Wall indicates in the article that \"Consumer satisfaction...is strongly related to...demographic characteristics, lifestyle, and product knowledge.\"\n",
    "\n",
    "Clothing fit plays a pivotal role in ensuring customer satisfaction within the fashion industry. As online shopping continues to gain popularity and a more diverse array of clothing becomes available, the precision of measurements and personalized clothing recommendations becomes increasingly valuable. Rishabh Misra's research primarily concentrates on using user-item interactions and information to predict suitable product recommendations for individual users, specifically focusing on product size recommendations. Notably, their approach employs metric learning, distinguishing itself from other studies that worked on Bayesian models, Regression, or Latent Factor models. This aligns with our project's objective, as we seek to predict customer ratings by aiming to find relationships between user feedback, body measurements, and item ratings from online clothing shopping platforms. Our aim also focuses on predicting how satisfied individuals are likely to be with a particular product through quantitative measurements. Additionally, Misra's work provides insights into how user-provided online information correlates with their shopping experiences, giving us a starting point on the complicated connection between user data and satisfaction. As said in the conclusion part of the \"Decomposing Fit Semantics for Product Size Recommendation in Metric Spaces\" paper, it provide a new framework for prediction in this particular problem. It uses two public datasets on customer feedback to build a latent model factor that implements metric learning, combining cosine similarities to give a reasonably recommended product size category label.\n",
    "\n",
    "Decomposing fit semantics for product size recommendation in metric spaces\n",
    "Rishabh Misra, Mengting Wan, Julian McAuley\n",
    "RecSys, 2018\n",
    "https://cseweb.ucsd.edu/~jmcauley/pdfs/recsys18e.pdf\n",
    "\n",
    "Correlates of Satisfaction and Dissatisfaction With Clothing Performance\n",
    "Marjorie Wall, Lois E. Dickey, W. Wayne Talarzyk \n",
    "https://www.jstor.org/stable/23858456?saml_data=eyJzYW1sVG9rZW4iOiI5YWY5MjkyZC0yZmMyLTQxYzMtYWFlOS0zMDUzYzA2MzE5MDEiLCJlbWFpbCI6InFpejAyN0B1Y3NkLmVkdSIsImluc3RpdHV0aW9uSWRzIjpbIjQ1NDczMjRkLWJmM2UtNDJmYy1hNDkyLTEwMTVkYTQyMDU1ZCJdfQ "
   ]
  },
  {
   "cell_type": "markdown",
   "metadata": {},
   "source": [
    "# Hypothesis\n"
   ]
  },
  {
   "cell_type": "markdown",
   "metadata": {},
   "source": [
    "We hypothesize that user characteristics such as body measurements, body type, and feedback will significantly influence the ratings. We think that users with longer feedback, average body measurements, and specific body types with categories of clothing will give a higher rating. \n",
    "- Longer feedback: More motivated to share their positive feedback?\n",
    "- Average body measurements: better fit for the majority? Sellers provide more average measured clothing since they contribute to a larger proportion of their targeted customers?\n",
    "- Specific body types with categories of clothing: users who have an idea on what kind of category of cloth aligns with their body type and preferences are expected to experience better outcomes in terms of fit, giving a higher rating."
   ]
  },
  {
   "cell_type": "markdown",
   "metadata": {},
   "source": [
    "# Data"
   ]
  },
  {
   "cell_type": "markdown",
   "metadata": {},
   "source": [
    "## Data overview\n",
    "\n",
    "For each dataset include the following information\n",
    "- Dataset #1\n",
    "  - Dataset Name: Modcloth\n",
    "  - Link to the dataset: https://datarepo.eng.ucsd.edu/mcauley_group/data/modcloth/modcloth_final_data.json.gz\n",
    "  - Number of observations: 82790\n",
    "  - Number of variables: 18\n",
    "- Dataset #2 (if you have more than one!)\n",
    "  - Dataset Name: Renttherunway\n",
    "  - Link to the dataset: https://datarepo.eng.ucsd.edu/mcauley_group/data/renttherunway/renttherunway_final_data.json.gz\n",
    "  - Number of observations: 192544\n",
    "  - Number of variables: 15\n",
    "  \n",
    "- Descriptions:\n",
    "    - Dataset #1: This dataset includes a lot of body measurements for each user and a review text section. Important variables are `waist`, `size`, `cup size`, `hips`, `bust`, `height`, and `review_text`. These all provide numerical data (all besides `size` and `quality` are objects right now, but will be numerical once we clean it) on a user's body measurements, and a string of their review of the item. I think that the `quality` column could be useful as well, as it seems that it is measuring what the customer thought of the quality of the item. These variables are all proxies for how much an item was liked by a user. Through `quality` and `review_text`, we can see how satisfied the user was. Because `user_id` is included as well, we can also check how the user generally rates clothing items, so data is less biased. We will need to figure out what to do about missing values (there are quite a few) and make sure all values are numerical and not objects.\n",
    "    - Dataset #2: This dataset includes some body measurements, but more categorical columns on clothing item types and body types. User info like weight in height are included as well, which could be useful. Important columns are `rating`, `review_text`, `body type`, `height`, and `age`. These are all object types, but we will change them to numerical data when we clean our dataset in the next section. The quantitative data are all proxies for clothing fit, and `rating` determines how well the item fits. Similar to our first dataset, `user_id` could be useful here, to see relative ratings and maybe see of there are repeat customers for Renttherunway.\n",
    "    - Since we have very different columns, it will be hard to merge the these datasets. Instead, we can look into concatenating them (just adding the rows of one to the rows of another) and only keeping columns that are common to both datasets. Since they are measuring similar things, we can just run annalyses on both datasets independently as well, to make sure our findings are consistent across different data."
   ]
  },
  {
   "cell_type": "code",
   "execution_count": 2,
   "metadata": {},
   "outputs": [],
   "source": [
    "import gzip\n",
    "import json \n",
    "\n",
    "# Basic packages\n",
    "import pandas as pd\n",
    "import numpy as np\n",
    "import seaborn as sns\n",
    "\n",
    "# Packages for visualization\n",
    "import matplotlib as mpl\n",
    "import matplotlib.pyplot as plt\n",
    "import matplotlib.style as style\n",
    "\n",
    "# Set figure size default\n",
    "plt.rcParams['figure.figsize'] = (10, 5) # Can be changed if needed\n",
    "\n",
    "# Linear regression packages\n",
    "import patsy\n",
    "import statsmodels.api as sm\n",
    "\n",
    "# Chi squared package\n",
    "from scipy.stats import chi2_contingency\n",
    "\n",
    "# Turning strings into integers\n",
    "from word2number import w2n\n",
    "\n",
    "# Import nltk package \n",
    "import nltk\n",
    "from nltk.tokenize import word_tokenize\n",
    "from nltk.corpus import stopwords\n",
    "\n",
    "import warnings\n",
    "warnings.filterwarnings('ignore')\n",
    "\n",
    "# scikit-learn imports\n",
    "from sklearn.model_selection import train_test_split\n",
    "from sklearn.svm import LinearSVC, SVC\n",
    "from sklearn.feature_extraction.text import CountVectorizer, TfidfVectorizer\n",
    "from sklearn.metrics import classification_report, precision_recall_fscore_support\n",
    "from sklearn.preprocessing import StandardScaler\n",
    "from sklearn.pipeline import Pipeline"
   ]
  },
  {
   "cell_type": "markdown",
   "metadata": {},
   "source": [
    "##  Dataset #1: Modcloth"
   ]
  },
  {
   "cell_type": "code",
   "execution_count": 3,
   "metadata": {},
   "outputs": [
    {
     "data": {
      "text/plain": [
       "(82790, 18)"
      ]
     },
     "execution_count": 3,
     "metadata": {},
     "output_type": "execute_result"
    }
   ],
   "source": [
    "md_fp = 'data/modcloth_final_data.json.gz'\n",
    "# modcloth_df = pd.read_json(md_fp, compression='gzip')\n",
    "\n",
    "modcloth_data = []\n",
    "\n",
    "with gzip.open(md_fp, 'rt') as f:\n",
    "    for line in f:\n",
    "        modcloth_data.append(json.loads(line))\n",
    "\n",
    "modcloth_df = pd.DataFrame(modcloth_data)\n",
    "\n",
    "modcloth_df.shape"
   ]
  },
  {
   "cell_type": "code",
   "execution_count": 4,
   "metadata": {},
   "outputs": [
    {
     "data": {
      "text/html": [
       "<div>\n",
       "<style scoped>\n",
       "    .dataframe tbody tr th:only-of-type {\n",
       "        vertical-align: middle;\n",
       "    }\n",
       "\n",
       "    .dataframe tbody tr th {\n",
       "        vertical-align: top;\n",
       "    }\n",
       "\n",
       "    .dataframe thead th {\n",
       "        text-align: right;\n",
       "    }\n",
       "</style>\n",
       "<table border=\"1\" class=\"dataframe\">\n",
       "  <thead>\n",
       "    <tr style=\"text-align: right;\">\n",
       "      <th></th>\n",
       "      <th>item_id</th>\n",
       "      <th>waist</th>\n",
       "      <th>size</th>\n",
       "      <th>quality</th>\n",
       "      <th>cup size</th>\n",
       "      <th>hips</th>\n",
       "      <th>bra size</th>\n",
       "      <th>category</th>\n",
       "      <th>bust</th>\n",
       "      <th>height</th>\n",
       "      <th>user_name</th>\n",
       "      <th>length</th>\n",
       "      <th>fit</th>\n",
       "      <th>user_id</th>\n",
       "      <th>shoe size</th>\n",
       "      <th>shoe width</th>\n",
       "      <th>review_summary</th>\n",
       "      <th>review_text</th>\n",
       "    </tr>\n",
       "  </thead>\n",
       "  <tbody>\n",
       "    <tr>\n",
       "      <th>0</th>\n",
       "      <td>123373</td>\n",
       "      <td>29</td>\n",
       "      <td>7</td>\n",
       "      <td>5.0</td>\n",
       "      <td>d</td>\n",
       "      <td>38</td>\n",
       "      <td>34</td>\n",
       "      <td>new</td>\n",
       "      <td>36</td>\n",
       "      <td>5ft 6in</td>\n",
       "      <td>Emily</td>\n",
       "      <td>just right</td>\n",
       "      <td>small</td>\n",
       "      <td>991571</td>\n",
       "      <td>NaN</td>\n",
       "      <td>NaN</td>\n",
       "      <td>NaN</td>\n",
       "      <td>NaN</td>\n",
       "    </tr>\n",
       "    <tr>\n",
       "      <th>1</th>\n",
       "      <td>123373</td>\n",
       "      <td>31</td>\n",
       "      <td>13</td>\n",
       "      <td>3.0</td>\n",
       "      <td>b</td>\n",
       "      <td>30</td>\n",
       "      <td>36</td>\n",
       "      <td>new</td>\n",
       "      <td>NaN</td>\n",
       "      <td>5ft 2in</td>\n",
       "      <td>sydneybraden2001</td>\n",
       "      <td>just right</td>\n",
       "      <td>small</td>\n",
       "      <td>587883</td>\n",
       "      <td>NaN</td>\n",
       "      <td>NaN</td>\n",
       "      <td>NaN</td>\n",
       "      <td>NaN</td>\n",
       "    </tr>\n",
       "    <tr>\n",
       "      <th>2</th>\n",
       "      <td>123373</td>\n",
       "      <td>30</td>\n",
       "      <td>7</td>\n",
       "      <td>2.0</td>\n",
       "      <td>b</td>\n",
       "      <td>NaN</td>\n",
       "      <td>32</td>\n",
       "      <td>new</td>\n",
       "      <td>NaN</td>\n",
       "      <td>5ft 7in</td>\n",
       "      <td>Ugggh</td>\n",
       "      <td>slightly long</td>\n",
       "      <td>small</td>\n",
       "      <td>395665</td>\n",
       "      <td>9.00</td>\n",
       "      <td>NaN</td>\n",
       "      <td>NaN</td>\n",
       "      <td>NaN</td>\n",
       "    </tr>\n",
       "    <tr>\n",
       "      <th>3</th>\n",
       "      <td>123373</td>\n",
       "      <td>NaN</td>\n",
       "      <td>21</td>\n",
       "      <td>5.0</td>\n",
       "      <td>dd/e</td>\n",
       "      <td>NaN</td>\n",
       "      <td>NaN</td>\n",
       "      <td>new</td>\n",
       "      <td>NaN</td>\n",
       "      <td>NaN</td>\n",
       "      <td>alexmeyer626</td>\n",
       "      <td>just right</td>\n",
       "      <td>fit</td>\n",
       "      <td>875643</td>\n",
       "      <td>NaN</td>\n",
       "      <td>NaN</td>\n",
       "      <td>NaN</td>\n",
       "      <td>NaN</td>\n",
       "    </tr>\n",
       "    <tr>\n",
       "      <th>4</th>\n",
       "      <td>123373</td>\n",
       "      <td>NaN</td>\n",
       "      <td>18</td>\n",
       "      <td>5.0</td>\n",
       "      <td>b</td>\n",
       "      <td>NaN</td>\n",
       "      <td>36</td>\n",
       "      <td>new</td>\n",
       "      <td>NaN</td>\n",
       "      <td>5ft 2in</td>\n",
       "      <td>dberrones1</td>\n",
       "      <td>slightly long</td>\n",
       "      <td>small</td>\n",
       "      <td>944840</td>\n",
       "      <td>NaN</td>\n",
       "      <td>NaN</td>\n",
       "      <td>NaN</td>\n",
       "      <td>NaN</td>\n",
       "    </tr>\n",
       "  </tbody>\n",
       "</table>\n",
       "</div>"
      ],
      "text/plain": [
       "  item_id waist  size  quality cup size hips bra size category bust   height  \\\n",
       "0  123373    29     7      5.0        d   38       34      new   36  5ft 6in   \n",
       "1  123373    31    13      3.0        b   30       36      new  NaN  5ft 2in   \n",
       "2  123373    30     7      2.0        b  NaN       32      new  NaN  5ft 7in   \n",
       "3  123373   NaN    21      5.0     dd/e  NaN      NaN      new  NaN      NaN   \n",
       "4  123373   NaN    18      5.0        b  NaN       36      new  NaN  5ft 2in   \n",
       "\n",
       "          user_name         length    fit user_id shoe size shoe width  \\\n",
       "0             Emily     just right  small  991571       NaN        NaN   \n",
       "1  sydneybraden2001     just right  small  587883       NaN        NaN   \n",
       "2             Ugggh  slightly long  small  395665      9.00        NaN   \n",
       "3      alexmeyer626     just right    fit  875643       NaN        NaN   \n",
       "4        dberrones1  slightly long  small  944840       NaN        NaN   \n",
       "\n",
       "  review_summary review_text  \n",
       "0            NaN         NaN  \n",
       "1            NaN         NaN  \n",
       "2            NaN         NaN  \n",
       "3            NaN         NaN  \n",
       "4            NaN         NaN  "
      ]
     },
     "execution_count": 4,
     "metadata": {},
     "output_type": "execute_result"
    }
   ],
   "source": [
    "modcloth_df.head()"
   ]
  },
  {
   "cell_type": "code",
   "execution_count": 5,
   "metadata": {},
   "outputs": [
    {
     "data": {
      "text/plain": [
       "item_id            object\n",
       "waist              object\n",
       "size                int64\n",
       "quality           float64\n",
       "cup size           object\n",
       "hips               object\n",
       "bra size           object\n",
       "category           object\n",
       "bust               object\n",
       "height             object\n",
       "user_name          object\n",
       "length             object\n",
       "fit                object\n",
       "user_id            object\n",
       "shoe size          object\n",
       "shoe width         object\n",
       "review_summary     object\n",
       "review_text        object\n",
       "dtype: object"
      ]
     },
     "execution_count": 5,
     "metadata": {},
     "output_type": "execute_result"
    }
   ],
   "source": [
    "modcloth_df.dtypes"
   ]
  },
  {
   "cell_type": "markdown",
   "metadata": {},
   "source": [
    "Firstly, we only keep the columns that are necessary for our analysis. Therefore, we will remove the unnecessary columns such as Bust and cup size, and drop all the NaN values in height and review text coloums for further analysis. "
   ]
  },
  {
   "cell_type": "code",
   "execution_count": 6,
   "metadata": {},
   "outputs": [
    {
     "data": {
      "text/html": [
       "<div>\n",
       "<style scoped>\n",
       "    .dataframe tbody tr th:only-of-type {\n",
       "        vertical-align: middle;\n",
       "    }\n",
       "\n",
       "    .dataframe tbody tr th {\n",
       "        vertical-align: top;\n",
       "    }\n",
       "\n",
       "    .dataframe thead th {\n",
       "        text-align: right;\n",
       "    }\n",
       "</style>\n",
       "<table border=\"1\" class=\"dataframe\">\n",
       "  <thead>\n",
       "    <tr style=\"text-align: right;\">\n",
       "      <th></th>\n",
       "      <th>item_id</th>\n",
       "      <th>waist</th>\n",
       "      <th>size</th>\n",
       "      <th>quality</th>\n",
       "      <th>hips</th>\n",
       "      <th>bra size</th>\n",
       "      <th>height</th>\n",
       "      <th>length</th>\n",
       "      <th>user_id</th>\n",
       "      <th>review_summary</th>\n",
       "      <th>review_text</th>\n",
       "    </tr>\n",
       "  </thead>\n",
       "  <tbody>\n",
       "    <tr>\n",
       "      <th>0</th>\n",
       "      <td>123373</td>\n",
       "      <td>29</td>\n",
       "      <td>7</td>\n",
       "      <td>5.0</td>\n",
       "      <td>38</td>\n",
       "      <td>34</td>\n",
       "      <td>5ft 6in</td>\n",
       "      <td>just right</td>\n",
       "      <td>991571</td>\n",
       "      <td>NaN</td>\n",
       "      <td>NaN</td>\n",
       "    </tr>\n",
       "    <tr>\n",
       "      <th>1</th>\n",
       "      <td>123373</td>\n",
       "      <td>31</td>\n",
       "      <td>13</td>\n",
       "      <td>3.0</td>\n",
       "      <td>30</td>\n",
       "      <td>36</td>\n",
       "      <td>5ft 2in</td>\n",
       "      <td>just right</td>\n",
       "      <td>587883</td>\n",
       "      <td>NaN</td>\n",
       "      <td>NaN</td>\n",
       "    </tr>\n",
       "    <tr>\n",
       "      <th>2</th>\n",
       "      <td>123373</td>\n",
       "      <td>30</td>\n",
       "      <td>7</td>\n",
       "      <td>2.0</td>\n",
       "      <td>NaN</td>\n",
       "      <td>32</td>\n",
       "      <td>5ft 7in</td>\n",
       "      <td>slightly long</td>\n",
       "      <td>395665</td>\n",
       "      <td>NaN</td>\n",
       "      <td>NaN</td>\n",
       "    </tr>\n",
       "    <tr>\n",
       "      <th>3</th>\n",
       "      <td>123373</td>\n",
       "      <td>NaN</td>\n",
       "      <td>21</td>\n",
       "      <td>5.0</td>\n",
       "      <td>NaN</td>\n",
       "      <td>NaN</td>\n",
       "      <td>NaN</td>\n",
       "      <td>just right</td>\n",
       "      <td>875643</td>\n",
       "      <td>NaN</td>\n",
       "      <td>NaN</td>\n",
       "    </tr>\n",
       "    <tr>\n",
       "      <th>4</th>\n",
       "      <td>123373</td>\n",
       "      <td>NaN</td>\n",
       "      <td>18</td>\n",
       "      <td>5.0</td>\n",
       "      <td>NaN</td>\n",
       "      <td>36</td>\n",
       "      <td>5ft 2in</td>\n",
       "      <td>slightly long</td>\n",
       "      <td>944840</td>\n",
       "      <td>NaN</td>\n",
       "      <td>NaN</td>\n",
       "    </tr>\n",
       "  </tbody>\n",
       "</table>\n",
       "</div>"
      ],
      "text/plain": [
       "  item_id waist  size  quality hips bra size   height         length user_id  \\\n",
       "0  123373    29     7      5.0   38       34  5ft 6in     just right  991571   \n",
       "1  123373    31    13      3.0   30       36  5ft 2in     just right  587883   \n",
       "2  123373    30     7      2.0  NaN       32  5ft 7in  slightly long  395665   \n",
       "3  123373   NaN    21      5.0  NaN      NaN      NaN     just right  875643   \n",
       "4  123373   NaN    18      5.0  NaN       36  5ft 2in  slightly long  944840   \n",
       "\n",
       "  review_summary review_text  \n",
       "0            NaN         NaN  \n",
       "1            NaN         NaN  \n",
       "2            NaN         NaN  \n",
       "3            NaN         NaN  \n",
       "4            NaN         NaN  "
      ]
     },
     "execution_count": 6,
     "metadata": {},
     "output_type": "execute_result"
    }
   ],
   "source": [
    "# Drop the unnecessary column\n",
    "modcloth_df = modcloth_df.drop(columns=['bust', 'cup size', 'user_name', 'fit', 'shoe size', 'shoe width', 'category'])\n",
    "modcloth_df.head()"
   ]
  },
  {
   "cell_type": "code",
   "execution_count": 7,
   "metadata": {},
   "outputs": [
    {
     "data": {
      "text/html": [
       "<div>\n",
       "<style scoped>\n",
       "    .dataframe tbody tr th:only-of-type {\n",
       "        vertical-align: middle;\n",
       "    }\n",
       "\n",
       "    .dataframe tbody tr th {\n",
       "        vertical-align: top;\n",
       "    }\n",
       "\n",
       "    .dataframe thead th {\n",
       "        text-align: right;\n",
       "    }\n",
       "</style>\n",
       "<table border=\"1\" class=\"dataframe\">\n",
       "  <thead>\n",
       "    <tr style=\"text-align: right;\">\n",
       "      <th></th>\n",
       "      <th>item_id</th>\n",
       "      <th>waist</th>\n",
       "      <th>size</th>\n",
       "      <th>quality</th>\n",
       "      <th>hips</th>\n",
       "      <th>bra size</th>\n",
       "      <th>height</th>\n",
       "      <th>length</th>\n",
       "      <th>user_id</th>\n",
       "      <th>review_summary</th>\n",
       "      <th>review_text</th>\n",
       "    </tr>\n",
       "  </thead>\n",
       "  <tbody>\n",
       "    <tr>\n",
       "      <th>6725</th>\n",
       "      <td>152702</td>\n",
       "      <td>27</td>\n",
       "      <td>4</td>\n",
       "      <td>4.0</td>\n",
       "      <td>37</td>\n",
       "      <td>32</td>\n",
       "      <td>5ft 6in</td>\n",
       "      <td>just right</td>\n",
       "      <td>668176</td>\n",
       "      <td>Too much ruching</td>\n",
       "      <td>I liked the color, the silhouette, and the fab...</td>\n",
       "    </tr>\n",
       "    <tr>\n",
       "      <th>6726</th>\n",
       "      <td>152702</td>\n",
       "      <td>26</td>\n",
       "      <td>4</td>\n",
       "      <td>5.0</td>\n",
       "      <td>36</td>\n",
       "      <td>34</td>\n",
       "      <td>5ft 6in</td>\n",
       "      <td>slightly short</td>\n",
       "      <td>320759</td>\n",
       "      <td>Suits my body type!</td>\n",
       "      <td>From the other reviews it seems like this dres...</td>\n",
       "    </tr>\n",
       "    <tr>\n",
       "      <th>6727</th>\n",
       "      <td>152702</td>\n",
       "      <td>NaN</td>\n",
       "      <td>4</td>\n",
       "      <td>3.0</td>\n",
       "      <td>NaN</td>\n",
       "      <td>34</td>\n",
       "      <td>5ft 3in</td>\n",
       "      <td>just right</td>\n",
       "      <td>144785</td>\n",
       "      <td>I love the design and fit</td>\n",
       "      <td>I love the design and fit of this dress!  I wo...</td>\n",
       "    </tr>\n",
       "    <tr>\n",
       "      <th>6728</th>\n",
       "      <td>152702</td>\n",
       "      <td>25</td>\n",
       "      <td>4</td>\n",
       "      <td>3.0</td>\n",
       "      <td>35</td>\n",
       "      <td>32</td>\n",
       "      <td>5ft 1in</td>\n",
       "      <td>slightly long</td>\n",
       "      <td>52664</td>\n",
       "      <td>Beautiful Dress!</td>\n",
       "      <td>I bought this dress for work  it is flattering...</td>\n",
       "    </tr>\n",
       "    <tr>\n",
       "      <th>6729</th>\n",
       "      <td>152702</td>\n",
       "      <td>25</td>\n",
       "      <td>4</td>\n",
       "      <td>5.0</td>\n",
       "      <td>32</td>\n",
       "      <td>32</td>\n",
       "      <td>5ft 6in</td>\n",
       "      <td>just right</td>\n",
       "      <td>155439</td>\n",
       "      <td>This is a very profession</td>\n",
       "      <td>This is a very professional look. It is Great ...</td>\n",
       "    </tr>\n",
       "  </tbody>\n",
       "</table>\n",
       "</div>"
      ],
      "text/plain": [
       "     item_id waist  size  quality hips bra size   height          length  \\\n",
       "6725  152702    27     4      4.0   37       32  5ft 6in      just right   \n",
       "6726  152702    26     4      5.0   36       34  5ft 6in  slightly short   \n",
       "6727  152702   NaN     4      3.0  NaN       34  5ft 3in      just right   \n",
       "6728  152702    25     4      3.0   35       32  5ft 1in   slightly long   \n",
       "6729  152702    25     4      5.0   32       32  5ft 6in      just right   \n",
       "\n",
       "     user_id             review_summary  \\\n",
       "6725  668176           Too much ruching   \n",
       "6726  320759        Suits my body type!   \n",
       "6727  144785  I love the design and fit   \n",
       "6728   52664           Beautiful Dress!   \n",
       "6729  155439  This is a very profession   \n",
       "\n",
       "                                            review_text  \n",
       "6725  I liked the color, the silhouette, and the fab...  \n",
       "6726  From the other reviews it seems like this dres...  \n",
       "6727  I love the design and fit of this dress!  I wo...  \n",
       "6728  I bought this dress for work  it is flattering...  \n",
       "6729  This is a very professional look. It is Great ...  "
      ]
     },
     "execution_count": 7,
     "metadata": {},
     "output_type": "execute_result"
    }
   ],
   "source": [
    "# Drop rows with NaN values specifically in the 'height','review_text' column\n",
    "modcloth_df = modcloth_df.dropna(subset=['height','review_text'])\n",
    "modcloth_df.head()"
   ]
  },
  {
   "cell_type": "markdown",
   "metadata": {},
   "source": [
    "Secondly, we want to remove any identical rows in our datas and checking the dataset's size to understand how many unique entries remain."
   ]
  },
  {
   "cell_type": "code",
   "execution_count": 8,
   "metadata": {},
   "outputs": [
    {
     "data": {
      "text/plain": [
       "74703"
      ]
     },
     "execution_count": 8,
     "metadata": {},
     "output_type": "execute_result"
    }
   ],
   "source": [
    "modcloth_df = modcloth_df.drop_duplicates()\n",
    "modcloth_df.shape[0]"
   ]
  },
  {
   "cell_type": "markdown",
   "metadata": {},
   "source": [
    "Lastly, we will standardize the 'height' column to inches and adjust the data types of other columns to appropriate formats for analysis."
   ]
  },
  {
   "cell_type": "code",
   "execution_count": 9,
   "metadata": {},
   "outputs": [
    {
     "data": {
      "text/html": [
       "<div>\n",
       "<style scoped>\n",
       "    .dataframe tbody tr th:only-of-type {\n",
       "        vertical-align: middle;\n",
       "    }\n",
       "\n",
       "    .dataframe tbody tr th {\n",
       "        vertical-align: top;\n",
       "    }\n",
       "\n",
       "    .dataframe thead th {\n",
       "        text-align: right;\n",
       "    }\n",
       "</style>\n",
       "<table border=\"1\" class=\"dataframe\">\n",
       "  <thead>\n",
       "    <tr style=\"text-align: right;\">\n",
       "      <th></th>\n",
       "      <th>item_id</th>\n",
       "      <th>waist</th>\n",
       "      <th>size</th>\n",
       "      <th>quality</th>\n",
       "      <th>hips</th>\n",
       "      <th>bra size</th>\n",
       "      <th>height</th>\n",
       "      <th>length</th>\n",
       "      <th>user_id</th>\n",
       "      <th>review_summary</th>\n",
       "      <th>review_text</th>\n",
       "    </tr>\n",
       "  </thead>\n",
       "  <tbody>\n",
       "    <tr>\n",
       "      <th>6725</th>\n",
       "      <td>152702</td>\n",
       "      <td>27</td>\n",
       "      <td>4</td>\n",
       "      <td>4.0</td>\n",
       "      <td>37</td>\n",
       "      <td>32</td>\n",
       "      <td>66.0</td>\n",
       "      <td>just right</td>\n",
       "      <td>668176</td>\n",
       "      <td>Too much ruching</td>\n",
       "      <td>I liked the color, the silhouette, and the fab...</td>\n",
       "    </tr>\n",
       "    <tr>\n",
       "      <th>6726</th>\n",
       "      <td>152702</td>\n",
       "      <td>26</td>\n",
       "      <td>4</td>\n",
       "      <td>5.0</td>\n",
       "      <td>36</td>\n",
       "      <td>34</td>\n",
       "      <td>66.0</td>\n",
       "      <td>slightly short</td>\n",
       "      <td>320759</td>\n",
       "      <td>Suits my body type!</td>\n",
       "      <td>From the other reviews it seems like this dres...</td>\n",
       "    </tr>\n",
       "    <tr>\n",
       "      <th>6727</th>\n",
       "      <td>152702</td>\n",
       "      <td>NaN</td>\n",
       "      <td>4</td>\n",
       "      <td>3.0</td>\n",
       "      <td>NaN</td>\n",
       "      <td>34</td>\n",
       "      <td>63.0</td>\n",
       "      <td>just right</td>\n",
       "      <td>144785</td>\n",
       "      <td>I love the design and fit</td>\n",
       "      <td>I love the design and fit of this dress!  I wo...</td>\n",
       "    </tr>\n",
       "    <tr>\n",
       "      <th>6728</th>\n",
       "      <td>152702</td>\n",
       "      <td>25</td>\n",
       "      <td>4</td>\n",
       "      <td>3.0</td>\n",
       "      <td>35</td>\n",
       "      <td>32</td>\n",
       "      <td>61.0</td>\n",
       "      <td>slightly long</td>\n",
       "      <td>52664</td>\n",
       "      <td>Beautiful Dress!</td>\n",
       "      <td>I bought this dress for work  it is flattering...</td>\n",
       "    </tr>\n",
       "    <tr>\n",
       "      <th>6729</th>\n",
       "      <td>152702</td>\n",
       "      <td>25</td>\n",
       "      <td>4</td>\n",
       "      <td>5.0</td>\n",
       "      <td>32</td>\n",
       "      <td>32</td>\n",
       "      <td>66.0</td>\n",
       "      <td>just right</td>\n",
       "      <td>155439</td>\n",
       "      <td>This is a very profession</td>\n",
       "      <td>This is a very professional look. It is Great ...</td>\n",
       "    </tr>\n",
       "  </tbody>\n",
       "</table>\n",
       "</div>"
      ],
      "text/plain": [
       "     item_id waist  size  quality hips bra size  height          length  \\\n",
       "6725  152702    27     4      4.0   37       32    66.0      just right   \n",
       "6726  152702    26     4      5.0   36       34    66.0  slightly short   \n",
       "6727  152702   NaN     4      3.0  NaN       34    63.0      just right   \n",
       "6728  152702    25     4      3.0   35       32    61.0   slightly long   \n",
       "6729  152702    25     4      5.0   32       32    66.0      just right   \n",
       "\n",
       "     user_id             review_summary  \\\n",
       "6725  668176           Too much ruching   \n",
       "6726  320759        Suits my body type!   \n",
       "6727  144785  I love the design and fit   \n",
       "6728   52664           Beautiful Dress!   \n",
       "6729  155439  This is a very profession   \n",
       "\n",
       "                                            review_text  \n",
       "6725  I liked the color, the silhouette, and the fab...  \n",
       "6726  From the other reviews it seems like this dres...  \n",
       "6727  I love the design and fit of this dress!  I wo...  \n",
       "6728  I bought this dress for work  it is flattering...  \n",
       "6729  This is a very professional look. It is Great ...  "
      ]
     },
     "execution_count": 9,
     "metadata": {},
     "output_type": "execute_result"
    }
   ],
   "source": [
    "# Function to convert height to inches\n",
    "def height_to_inches(height):\n",
    "    try:\n",
    "        feet, inches = height.split(\"ft\")\n",
    "        feet = feet.strip()\n",
    "        inches = inches.replace(\"in\", \"\")\n",
    "        inches = inches.strip()\n",
    "        return int(feet) * 12 + int(inches)\n",
    "    except:\n",
    "        return 0.0\n",
    "    \n",
    "# Apply the function to the 'height' column to convert all height to numeric type in inches\n",
    "modcloth_df['height'] = modcloth_df['height'].apply(height_to_inches)\n",
    "modcloth_df.head()"
   ]
  },
  {
   "cell_type": "code",
   "execution_count": 10,
   "metadata": {},
   "outputs": [],
   "source": [
    "# Convert item_id, waist, bra size, user_id, and quality to numeric value\n",
    "modcloth_df[['item_id']] = modcloth_df[['item_id']].astype(int)\n",
    "modcloth_df[['waist', 'bra size', 'user_id']] = modcloth_df[['waist', 'bra size', 'user_id']].astype(float)\n",
    "modcloth_df['quality'] = modcloth_df['quality'].astype(float)"
   ]
  },
  {
   "cell_type": "code",
   "execution_count": 11,
   "metadata": {},
   "outputs": [],
   "source": [
    "# Drop length(opinion on length of cloth)column, which is only reported when the review has been made\n",
    "modcloth_df = modcloth_df.drop(columns=['length'])"
   ]
  },
  {
   "cell_type": "code",
   "execution_count": 12,
   "metadata": {},
   "outputs": [
    {
     "data": {
      "text/html": [
       "<div>\n",
       "<style scoped>\n",
       "    .dataframe tbody tr th:only-of-type {\n",
       "        vertical-align: middle;\n",
       "    }\n",
       "\n",
       "    .dataframe tbody tr th {\n",
       "        vertical-align: top;\n",
       "    }\n",
       "\n",
       "    .dataframe thead th {\n",
       "        text-align: right;\n",
       "    }\n",
       "</style>\n",
       "<table border=\"1\" class=\"dataframe\">\n",
       "  <thead>\n",
       "    <tr style=\"text-align: right;\">\n",
       "      <th></th>\n",
       "      <th>item_id</th>\n",
       "      <th>waist</th>\n",
       "      <th>size</th>\n",
       "      <th>quality</th>\n",
       "      <th>hips</th>\n",
       "      <th>bra size</th>\n",
       "      <th>height</th>\n",
       "      <th>user_id</th>\n",
       "      <th>review_summary</th>\n",
       "      <th>review_text</th>\n",
       "    </tr>\n",
       "  </thead>\n",
       "  <tbody>\n",
       "    <tr>\n",
       "      <th>6725</th>\n",
       "      <td>152702</td>\n",
       "      <td>27.0</td>\n",
       "      <td>4</td>\n",
       "      <td>4.0</td>\n",
       "      <td>37</td>\n",
       "      <td>32.0</td>\n",
       "      <td>66.0</td>\n",
       "      <td>668176.0</td>\n",
       "      <td>Too much ruching</td>\n",
       "      <td>I liked the color, the silhouette, and the fab...</td>\n",
       "    </tr>\n",
       "    <tr>\n",
       "      <th>6726</th>\n",
       "      <td>152702</td>\n",
       "      <td>26.0</td>\n",
       "      <td>4</td>\n",
       "      <td>5.0</td>\n",
       "      <td>36</td>\n",
       "      <td>34.0</td>\n",
       "      <td>66.0</td>\n",
       "      <td>320759.0</td>\n",
       "      <td>Suits my body type!</td>\n",
       "      <td>From the other reviews it seems like this dres...</td>\n",
       "    </tr>\n",
       "    <tr>\n",
       "      <th>6727</th>\n",
       "      <td>152702</td>\n",
       "      <td>NaN</td>\n",
       "      <td>4</td>\n",
       "      <td>3.0</td>\n",
       "      <td>NaN</td>\n",
       "      <td>34.0</td>\n",
       "      <td>63.0</td>\n",
       "      <td>144785.0</td>\n",
       "      <td>I love the design and fit</td>\n",
       "      <td>I love the design and fit of this dress!  I wo...</td>\n",
       "    </tr>\n",
       "    <tr>\n",
       "      <th>6728</th>\n",
       "      <td>152702</td>\n",
       "      <td>25.0</td>\n",
       "      <td>4</td>\n",
       "      <td>3.0</td>\n",
       "      <td>35</td>\n",
       "      <td>32.0</td>\n",
       "      <td>61.0</td>\n",
       "      <td>52664.0</td>\n",
       "      <td>Beautiful Dress!</td>\n",
       "      <td>I bought this dress for work  it is flattering...</td>\n",
       "    </tr>\n",
       "    <tr>\n",
       "      <th>6729</th>\n",
       "      <td>152702</td>\n",
       "      <td>25.0</td>\n",
       "      <td>4</td>\n",
       "      <td>5.0</td>\n",
       "      <td>32</td>\n",
       "      <td>32.0</td>\n",
       "      <td>66.0</td>\n",
       "      <td>155439.0</td>\n",
       "      <td>This is a very profession</td>\n",
       "      <td>This is a very professional look. It is Great ...</td>\n",
       "    </tr>\n",
       "  </tbody>\n",
       "</table>\n",
       "</div>"
      ],
      "text/plain": [
       "      item_id  waist  size  quality hips  bra size  height   user_id  \\\n",
       "6725   152702   27.0     4      4.0   37      32.0    66.0  668176.0   \n",
       "6726   152702   26.0     4      5.0   36      34.0    66.0  320759.0   \n",
       "6727   152702    NaN     4      3.0  NaN      34.0    63.0  144785.0   \n",
       "6728   152702   25.0     4      3.0   35      32.0    61.0   52664.0   \n",
       "6729   152702   25.0     4      5.0   32      32.0    66.0  155439.0   \n",
       "\n",
       "                 review_summary  \\\n",
       "6725           Too much ruching   \n",
       "6726        Suits my body type!   \n",
       "6727  I love the design and fit   \n",
       "6728           Beautiful Dress!   \n",
       "6729  This is a very profession   \n",
       "\n",
       "                                            review_text  \n",
       "6725  I liked the color, the silhouette, and the fab...  \n",
       "6726  From the other reviews it seems like this dres...  \n",
       "6727  I love the design and fit of this dress!  I wo...  \n",
       "6728  I bought this dress for work  it is flattering...  \n",
       "6729  This is a very professional look. It is Great ...  "
      ]
     },
     "execution_count": 12,
     "metadata": {},
     "output_type": "execute_result"
    }
   ],
   "source": [
    "modcloth_df.head()"
   ]
  },
  {
   "cell_type": "code",
   "execution_count": 13,
   "metadata": {},
   "outputs": [
    {
     "data": {
      "text/plain": [
       "item_id             int64\n",
       "waist             float64\n",
       "size                int64\n",
       "quality           float64\n",
       "hips               object\n",
       "bra size          float64\n",
       "height            float64\n",
       "user_id           float64\n",
       "review_summary     object\n",
       "review_text        object\n",
       "dtype: object"
      ]
     },
     "execution_count": 13,
     "metadata": {},
     "output_type": "execute_result"
    }
   ],
   "source": [
    "modcloth_df.dtypes"
   ]
  },
  {
   "cell_type": "markdown",
   "metadata": {},
   "source": [
    "## Dataset #2: Renttherunway"
   ]
  },
  {
   "cell_type": "code",
   "execution_count": 14,
   "metadata": {},
   "outputs": [
    {
     "data": {
      "text/plain": [
       "(192544, 15)"
      ]
     },
     "execution_count": 14,
     "metadata": {},
     "output_type": "execute_result"
    }
   ],
   "source": [
    "rtr_fp = 'data/renttherunway_final_data.json.gz'\n",
    "# rtr_df = pd.read_json(md_fp, compression='gzip')\n",
    "\n",
    "rtr_data = []\n",
    "\n",
    "with gzip.open(rtr_fp, 'rt') as f:\n",
    "    for line in f:\n",
    "        rtr_data.append(json.loads(line))\n",
    "\n",
    "rtr_df = pd.DataFrame(rtr_data)\n",
    "\n",
    "rtr_df.shape"
   ]
  },
  {
   "cell_type": "code",
   "execution_count": 15,
   "metadata": {},
   "outputs": [
    {
     "data": {
      "text/html": [
       "<div>\n",
       "<style scoped>\n",
       "    .dataframe tbody tr th:only-of-type {\n",
       "        vertical-align: middle;\n",
       "    }\n",
       "\n",
       "    .dataframe tbody tr th {\n",
       "        vertical-align: top;\n",
       "    }\n",
       "\n",
       "    .dataframe thead th {\n",
       "        text-align: right;\n",
       "    }\n",
       "</style>\n",
       "<table border=\"1\" class=\"dataframe\">\n",
       "  <thead>\n",
       "    <tr style=\"text-align: right;\">\n",
       "      <th></th>\n",
       "      <th>fit</th>\n",
       "      <th>user_id</th>\n",
       "      <th>bust size</th>\n",
       "      <th>item_id</th>\n",
       "      <th>weight</th>\n",
       "      <th>rating</th>\n",
       "      <th>rented for</th>\n",
       "      <th>review_text</th>\n",
       "      <th>body type</th>\n",
       "      <th>review_summary</th>\n",
       "      <th>category</th>\n",
       "      <th>height</th>\n",
       "      <th>size</th>\n",
       "      <th>age</th>\n",
       "      <th>review_date</th>\n",
       "    </tr>\n",
       "  </thead>\n",
       "  <tbody>\n",
       "    <tr>\n",
       "      <th>0</th>\n",
       "      <td>fit</td>\n",
       "      <td>420272</td>\n",
       "      <td>34d</td>\n",
       "      <td>2260466</td>\n",
       "      <td>137lbs</td>\n",
       "      <td>10</td>\n",
       "      <td>vacation</td>\n",
       "      <td>An adorable romper! Belt and zipper were a lit...</td>\n",
       "      <td>hourglass</td>\n",
       "      <td>So many compliments!</td>\n",
       "      <td>romper</td>\n",
       "      <td>5' 8\"</td>\n",
       "      <td>14</td>\n",
       "      <td>28</td>\n",
       "      <td>April 20, 2016</td>\n",
       "    </tr>\n",
       "    <tr>\n",
       "      <th>1</th>\n",
       "      <td>fit</td>\n",
       "      <td>273551</td>\n",
       "      <td>34b</td>\n",
       "      <td>153475</td>\n",
       "      <td>132lbs</td>\n",
       "      <td>10</td>\n",
       "      <td>other</td>\n",
       "      <td>I rented this dress for a photo shoot. The the...</td>\n",
       "      <td>straight &amp; narrow</td>\n",
       "      <td>I felt so glamourous!!!</td>\n",
       "      <td>gown</td>\n",
       "      <td>5' 6\"</td>\n",
       "      <td>12</td>\n",
       "      <td>36</td>\n",
       "      <td>June 18, 2013</td>\n",
       "    </tr>\n",
       "    <tr>\n",
       "      <th>2</th>\n",
       "      <td>fit</td>\n",
       "      <td>360448</td>\n",
       "      <td>NaN</td>\n",
       "      <td>1063761</td>\n",
       "      <td>NaN</td>\n",
       "      <td>10</td>\n",
       "      <td>party</td>\n",
       "      <td>This hugged in all the right places! It was a ...</td>\n",
       "      <td>NaN</td>\n",
       "      <td>It was a great time to celebrate the (almost) ...</td>\n",
       "      <td>sheath</td>\n",
       "      <td>5' 4\"</td>\n",
       "      <td>4</td>\n",
       "      <td>116</td>\n",
       "      <td>December 14, 2015</td>\n",
       "    </tr>\n",
       "    <tr>\n",
       "      <th>3</th>\n",
       "      <td>fit</td>\n",
       "      <td>909926</td>\n",
       "      <td>34c</td>\n",
       "      <td>126335</td>\n",
       "      <td>135lbs</td>\n",
       "      <td>8</td>\n",
       "      <td>formal affair</td>\n",
       "      <td>I rented this for my company's black tie award...</td>\n",
       "      <td>pear</td>\n",
       "      <td>Dress arrived on time and in perfect condition.</td>\n",
       "      <td>dress</td>\n",
       "      <td>5' 5\"</td>\n",
       "      <td>8</td>\n",
       "      <td>34</td>\n",
       "      <td>February 12, 2014</td>\n",
       "    </tr>\n",
       "    <tr>\n",
       "      <th>4</th>\n",
       "      <td>fit</td>\n",
       "      <td>151944</td>\n",
       "      <td>34b</td>\n",
       "      <td>616682</td>\n",
       "      <td>145lbs</td>\n",
       "      <td>10</td>\n",
       "      <td>wedding</td>\n",
       "      <td>I have always been petite in my upper body and...</td>\n",
       "      <td>athletic</td>\n",
       "      <td>Was in love with this dress !!!</td>\n",
       "      <td>gown</td>\n",
       "      <td>5' 9\"</td>\n",
       "      <td>12</td>\n",
       "      <td>27</td>\n",
       "      <td>September 26, 2016</td>\n",
       "    </tr>\n",
       "  </tbody>\n",
       "</table>\n",
       "</div>"
      ],
      "text/plain": [
       "   fit user_id bust size  item_id  weight rating     rented for  \\\n",
       "0  fit  420272       34d  2260466  137lbs     10       vacation   \n",
       "1  fit  273551       34b   153475  132lbs     10          other   \n",
       "2  fit  360448       NaN  1063761     NaN     10          party   \n",
       "3  fit  909926       34c   126335  135lbs      8  formal affair   \n",
       "4  fit  151944       34b   616682  145lbs     10        wedding   \n",
       "\n",
       "                                         review_text          body type  \\\n",
       "0  An adorable romper! Belt and zipper were a lit...          hourglass   \n",
       "1  I rented this dress for a photo shoot. The the...  straight & narrow   \n",
       "2  This hugged in all the right places! It was a ...                NaN   \n",
       "3  I rented this for my company's black tie award...               pear   \n",
       "4  I have always been petite in my upper body and...           athletic   \n",
       "\n",
       "                                      review_summary category height  size  \\\n",
       "0                               So many compliments!   romper  5' 8\"    14   \n",
       "1                            I felt so glamourous!!!     gown  5' 6\"    12   \n",
       "2  It was a great time to celebrate the (almost) ...   sheath  5' 4\"     4   \n",
       "3   Dress arrived on time and in perfect condition.     dress  5' 5\"     8   \n",
       "4                    Was in love with this dress !!!     gown  5' 9\"    12   \n",
       "\n",
       "   age         review_date  \n",
       "0   28      April 20, 2016  \n",
       "1   36       June 18, 2013  \n",
       "2  116   December 14, 2015  \n",
       "3   34   February 12, 2014  \n",
       "4   27  September 26, 2016  "
      ]
     },
     "execution_count": 15,
     "metadata": {},
     "output_type": "execute_result"
    }
   ],
   "source": [
    "rtr_df.head()"
   ]
  },
  {
   "cell_type": "code",
   "execution_count": 16,
   "metadata": {},
   "outputs": [
    {
     "data": {
      "text/html": [
       "<div>\n",
       "<style scoped>\n",
       "    .dataframe tbody tr th:only-of-type {\n",
       "        vertical-align: middle;\n",
       "    }\n",
       "\n",
       "    .dataframe tbody tr th {\n",
       "        vertical-align: top;\n",
       "    }\n",
       "\n",
       "    .dataframe thead th {\n",
       "        text-align: right;\n",
       "    }\n",
       "</style>\n",
       "<table border=\"1\" class=\"dataframe\">\n",
       "  <thead>\n",
       "    <tr style=\"text-align: right;\">\n",
       "      <th></th>\n",
       "      <th>user_id</th>\n",
       "      <th>bust size</th>\n",
       "      <th>item_id</th>\n",
       "      <th>rating</th>\n",
       "      <th>review_text</th>\n",
       "      <th>body type</th>\n",
       "      <th>review_summary</th>\n",
       "      <th>category</th>\n",
       "      <th>size</th>\n",
       "      <th>review_date</th>\n",
       "      <th>weight_lbs</th>\n",
       "      <th>height_in</th>\n",
       "    </tr>\n",
       "  </thead>\n",
       "  <tbody>\n",
       "    <tr>\n",
       "      <th>0</th>\n",
       "      <td>420272</td>\n",
       "      <td>34d</td>\n",
       "      <td>2260466</td>\n",
       "      <td>10</td>\n",
       "      <td>An adorable romper! Belt and zipper were a lit...</td>\n",
       "      <td>hourglass</td>\n",
       "      <td>So many compliments!</td>\n",
       "      <td>romper</td>\n",
       "      <td>14</td>\n",
       "      <td>April 20, 2016</td>\n",
       "      <td>137.0</td>\n",
       "      <td>68.0</td>\n",
       "    </tr>\n",
       "    <tr>\n",
       "      <th>1</th>\n",
       "      <td>273551</td>\n",
       "      <td>34b</td>\n",
       "      <td>153475</td>\n",
       "      <td>10</td>\n",
       "      <td>I rented this dress for a photo shoot. The the...</td>\n",
       "      <td>straight &amp; narrow</td>\n",
       "      <td>I felt so glamourous!!!</td>\n",
       "      <td>gown</td>\n",
       "      <td>12</td>\n",
       "      <td>June 18, 2013</td>\n",
       "      <td>132.0</td>\n",
       "      <td>66.0</td>\n",
       "    </tr>\n",
       "    <tr>\n",
       "      <th>3</th>\n",
       "      <td>909926</td>\n",
       "      <td>34c</td>\n",
       "      <td>126335</td>\n",
       "      <td>8</td>\n",
       "      <td>I rented this for my company's black tie award...</td>\n",
       "      <td>pear</td>\n",
       "      <td>Dress arrived on time and in perfect condition.</td>\n",
       "      <td>dress</td>\n",
       "      <td>8</td>\n",
       "      <td>February 12, 2014</td>\n",
       "      <td>135.0</td>\n",
       "      <td>65.0</td>\n",
       "    </tr>\n",
       "    <tr>\n",
       "      <th>4</th>\n",
       "      <td>151944</td>\n",
       "      <td>34b</td>\n",
       "      <td>616682</td>\n",
       "      <td>10</td>\n",
       "      <td>I have always been petite in my upper body and...</td>\n",
       "      <td>athletic</td>\n",
       "      <td>Was in love with this dress !!!</td>\n",
       "      <td>gown</td>\n",
       "      <td>12</td>\n",
       "      <td>September 26, 2016</td>\n",
       "      <td>145.0</td>\n",
       "      <td>69.0</td>\n",
       "    </tr>\n",
       "    <tr>\n",
       "      <th>5</th>\n",
       "      <td>734848</td>\n",
       "      <td>32b</td>\n",
       "      <td>364092</td>\n",
       "      <td>8</td>\n",
       "      <td>Didn't actually wear it. It fit perfectly. The...</td>\n",
       "      <td>athletic</td>\n",
       "      <td>Traditional with a touch a sass</td>\n",
       "      <td>dress</td>\n",
       "      <td>8</td>\n",
       "      <td>April 30, 2016</td>\n",
       "      <td>138.0</td>\n",
       "      <td>68.0</td>\n",
       "    </tr>\n",
       "  </tbody>\n",
       "</table>\n",
       "</div>"
      ],
      "text/plain": [
       "  user_id bust size  item_id rating  \\\n",
       "0  420272       34d  2260466     10   \n",
       "1  273551       34b   153475     10   \n",
       "3  909926       34c   126335      8   \n",
       "4  151944       34b   616682     10   \n",
       "5  734848       32b   364092      8   \n",
       "\n",
       "                                         review_text          body type  \\\n",
       "0  An adorable romper! Belt and zipper were a lit...          hourglass   \n",
       "1  I rented this dress for a photo shoot. The the...  straight & narrow   \n",
       "3  I rented this for my company's black tie award...               pear   \n",
       "4  I have always been petite in my upper body and...           athletic   \n",
       "5  Didn't actually wear it. It fit perfectly. The...           athletic   \n",
       "\n",
       "                                     review_summary category  size  \\\n",
       "0                              So many compliments!   romper    14   \n",
       "1                           I felt so glamourous!!!     gown    12   \n",
       "3  Dress arrived on time and in perfect condition.     dress     8   \n",
       "4                   Was in love with this dress !!!     gown    12   \n",
       "5                   Traditional with a touch a sass    dress     8   \n",
       "\n",
       "          review_date  weight_lbs  height_in  \n",
       "0      April 20, 2016       137.0       68.0  \n",
       "1       June 18, 2013       132.0       66.0  \n",
       "3   February 12, 2014       135.0       65.0  \n",
       "4  September 26, 2016       145.0       69.0  \n",
       "5      April 30, 2016       138.0       68.0  "
      ]
     },
     "execution_count": 16,
     "metadata": {},
     "output_type": "execute_result"
    }
   ],
   "source": [
    "# Convert 'weight' column to numeric and rename it to 'weight_lbs'\n",
    "rtr_df['weight_lbs'] = rtr_df['weight'].str.extract('(\\d+)').astype(float)\n",
    "\n",
    "# Convert 'height' column to inches and rename it to 'height_in'\n",
    "def height_to_inches(height):\n",
    "    if pd.isnull(height):\n",
    "        return height\n",
    "    else:\n",
    "        feet, inches = height.split(\"'\")\n",
    "        return int(feet) * 12 + int(inches.replace('\"', ''))\n",
    "    \n",
    "rtr_df['height_in'] = rtr_df['height'].apply(height_to_inches)\n",
    "\n",
    "# Drop original 'weight', 'height', 'rented for', 'fit', 'age' columns\n",
    "rtr_df.drop(columns=['weight', 'height', 'rented for', 'fit', 'age'], inplace = True)\n",
    "\n",
    "# Remove rows with missing values\n",
    "rtr_df.dropna(inplace = True)\n",
    "\n",
    "# Display the cleaned dataset\n",
    "rtr_df.head()"
   ]
  },
  {
   "cell_type": "code",
   "execution_count": 17,
   "metadata": {},
   "outputs": [
    {
     "data": {
      "text/plain": [
       "user_id            object\n",
       "bust size          object\n",
       "item_id            object\n",
       "rating             object\n",
       "review_text        object\n",
       "body type          object\n",
       "review_summary     object\n",
       "category           object\n",
       "size                int64\n",
       "review_date        object\n",
       "weight_lbs        float64\n",
       "height_in         float64\n",
       "dtype: object"
      ]
     },
     "execution_count": 17,
     "metadata": {},
     "output_type": "execute_result"
    }
   ],
   "source": [
    "rtr_df.dtypes"
   ]
  },
  {
   "cell_type": "code",
   "execution_count": 18,
   "metadata": {},
   "outputs": [
    {
     "data": {
      "text/plain": [
       "(146708, 12)"
      ]
     },
     "execution_count": 18,
     "metadata": {},
     "output_type": "execute_result"
    }
   ],
   "source": [
    "rtr_df.shape"
   ]
  },
  {
   "cell_type": "code",
   "execution_count": 19,
   "metadata": {},
   "outputs": [],
   "source": [
    "#Convert values to integers and dates\n",
    "rtr_df[['user_id', 'item_id', 'rating']] = rtr_df[['user_id', 'item_id', 'rating']].astype(int)\n",
    "\n",
    "rtr_df['review_date'] = pd.to_datetime(rtr_df['review_date'])"
   ]
  },
  {
   "cell_type": "code",
   "execution_count": 20,
   "metadata": {},
   "outputs": [
    {
     "data": {
      "text/html": [
       "<div>\n",
       "<style scoped>\n",
       "    .dataframe tbody tr th:only-of-type {\n",
       "        vertical-align: middle;\n",
       "    }\n",
       "\n",
       "    .dataframe tbody tr th {\n",
       "        vertical-align: top;\n",
       "    }\n",
       "\n",
       "    .dataframe thead th {\n",
       "        text-align: right;\n",
       "    }\n",
       "</style>\n",
       "<table border=\"1\" class=\"dataframe\">\n",
       "  <thead>\n",
       "    <tr style=\"text-align: right;\">\n",
       "      <th></th>\n",
       "      <th>user_id</th>\n",
       "      <th>bust size</th>\n",
       "      <th>item_id</th>\n",
       "      <th>rating</th>\n",
       "      <th>review_text</th>\n",
       "      <th>body type</th>\n",
       "      <th>review_summary</th>\n",
       "      <th>category</th>\n",
       "      <th>size</th>\n",
       "      <th>review_date</th>\n",
       "      <th>weight_lbs</th>\n",
       "      <th>height_in</th>\n",
       "    </tr>\n",
       "  </thead>\n",
       "  <tbody>\n",
       "    <tr>\n",
       "      <th>0</th>\n",
       "      <td>420272</td>\n",
       "      <td>34d</td>\n",
       "      <td>2260466</td>\n",
       "      <td>10</td>\n",
       "      <td>An adorable romper! Belt and zipper were a lit...</td>\n",
       "      <td>hourglass</td>\n",
       "      <td>So many compliments!</td>\n",
       "      <td>romper</td>\n",
       "      <td>14</td>\n",
       "      <td>2016-04-20</td>\n",
       "      <td>137.0</td>\n",
       "      <td>68.0</td>\n",
       "    </tr>\n",
       "    <tr>\n",
       "      <th>1</th>\n",
       "      <td>273551</td>\n",
       "      <td>34b</td>\n",
       "      <td>153475</td>\n",
       "      <td>10</td>\n",
       "      <td>I rented this dress for a photo shoot. The the...</td>\n",
       "      <td>straight &amp; narrow</td>\n",
       "      <td>I felt so glamourous!!!</td>\n",
       "      <td>gown</td>\n",
       "      <td>12</td>\n",
       "      <td>2013-06-18</td>\n",
       "      <td>132.0</td>\n",
       "      <td>66.0</td>\n",
       "    </tr>\n",
       "    <tr>\n",
       "      <th>3</th>\n",
       "      <td>909926</td>\n",
       "      <td>34c</td>\n",
       "      <td>126335</td>\n",
       "      <td>8</td>\n",
       "      <td>I rented this for my company's black tie award...</td>\n",
       "      <td>pear</td>\n",
       "      <td>Dress arrived on time and in perfect condition.</td>\n",
       "      <td>dress</td>\n",
       "      <td>8</td>\n",
       "      <td>2014-02-12</td>\n",
       "      <td>135.0</td>\n",
       "      <td>65.0</td>\n",
       "    </tr>\n",
       "    <tr>\n",
       "      <th>4</th>\n",
       "      <td>151944</td>\n",
       "      <td>34b</td>\n",
       "      <td>616682</td>\n",
       "      <td>10</td>\n",
       "      <td>I have always been petite in my upper body and...</td>\n",
       "      <td>athletic</td>\n",
       "      <td>Was in love with this dress !!!</td>\n",
       "      <td>gown</td>\n",
       "      <td>12</td>\n",
       "      <td>2016-09-26</td>\n",
       "      <td>145.0</td>\n",
       "      <td>69.0</td>\n",
       "    </tr>\n",
       "    <tr>\n",
       "      <th>5</th>\n",
       "      <td>734848</td>\n",
       "      <td>32b</td>\n",
       "      <td>364092</td>\n",
       "      <td>8</td>\n",
       "      <td>Didn't actually wear it. It fit perfectly. The...</td>\n",
       "      <td>athletic</td>\n",
       "      <td>Traditional with a touch a sass</td>\n",
       "      <td>dress</td>\n",
       "      <td>8</td>\n",
       "      <td>2016-04-30</td>\n",
       "      <td>138.0</td>\n",
       "      <td>68.0</td>\n",
       "    </tr>\n",
       "  </tbody>\n",
       "</table>\n",
       "</div>"
      ],
      "text/plain": [
       "   user_id bust size  item_id  rating  \\\n",
       "0   420272       34d  2260466      10   \n",
       "1   273551       34b   153475      10   \n",
       "3   909926       34c   126335       8   \n",
       "4   151944       34b   616682      10   \n",
       "5   734848       32b   364092       8   \n",
       "\n",
       "                                         review_text          body type  \\\n",
       "0  An adorable romper! Belt and zipper were a lit...          hourglass   \n",
       "1  I rented this dress for a photo shoot. The the...  straight & narrow   \n",
       "3  I rented this for my company's black tie award...               pear   \n",
       "4  I have always been petite in my upper body and...           athletic   \n",
       "5  Didn't actually wear it. It fit perfectly. The...           athletic   \n",
       "\n",
       "                                     review_summary category  size  \\\n",
       "0                              So many compliments!   romper    14   \n",
       "1                           I felt so glamourous!!!     gown    12   \n",
       "3  Dress arrived on time and in perfect condition.     dress     8   \n",
       "4                   Was in love with this dress !!!     gown    12   \n",
       "5                   Traditional with a touch a sass    dress     8   \n",
       "\n",
       "  review_date  weight_lbs  height_in  \n",
       "0  2016-04-20       137.0       68.0  \n",
       "1  2013-06-18       132.0       66.0  \n",
       "3  2014-02-12       135.0       65.0  \n",
       "4  2016-09-26       145.0       69.0  \n",
       "5  2016-04-30       138.0       68.0  "
      ]
     },
     "execution_count": 20,
     "metadata": {},
     "output_type": "execute_result"
    }
   ],
   "source": [
    "rtr_df.head()"
   ]
  },
  {
   "cell_type": "code",
   "execution_count": 21,
   "metadata": {},
   "outputs": [
    {
     "data": {
      "text/plain": [
       "user_id                    int64\n",
       "bust size                 object\n",
       "item_id                    int64\n",
       "rating                     int64\n",
       "review_text               object\n",
       "body type                 object\n",
       "review_summary            object\n",
       "category                  object\n",
       "size                       int64\n",
       "review_date       datetime64[ns]\n",
       "weight_lbs               float64\n",
       "height_in                float64\n",
       "dtype: object"
      ]
     },
     "execution_count": 21,
     "metadata": {},
     "output_type": "execute_result"
    }
   ],
   "source": [
    "rtr_df.dtypes"
   ]
  },
  {
   "cell_type": "markdown",
   "metadata": {},
   "source": [
    "# Results\n",
    "\n",
    "## Exploratory Data Analysis"
   ]
  },
  {
   "cell_type": "markdown",
   "metadata": {},
   "source": [
    "## EDA on Modcloth Data\n",
    "\n",
    "We will explore which factors affect the quality rating given by a user."
   ]
  },
  {
   "cell_type": "code",
   "execution_count": 22,
   "metadata": {},
   "outputs": [
    {
     "data": {
      "text/html": [
       "<div>\n",
       "<style scoped>\n",
       "    .dataframe tbody tr th:only-of-type {\n",
       "        vertical-align: middle;\n",
       "    }\n",
       "\n",
       "    .dataframe tbody tr th {\n",
       "        vertical-align: top;\n",
       "    }\n",
       "\n",
       "    .dataframe thead th {\n",
       "        text-align: right;\n",
       "    }\n",
       "</style>\n",
       "<table border=\"1\" class=\"dataframe\">\n",
       "  <thead>\n",
       "    <tr style=\"text-align: right;\">\n",
       "      <th></th>\n",
       "      <th>item_id</th>\n",
       "      <th>waist</th>\n",
       "      <th>size</th>\n",
       "      <th>quality</th>\n",
       "      <th>hips</th>\n",
       "      <th>bra size</th>\n",
       "      <th>height</th>\n",
       "      <th>user_id</th>\n",
       "      <th>review_summary</th>\n",
       "      <th>review_text</th>\n",
       "    </tr>\n",
       "  </thead>\n",
       "  <tbody>\n",
       "    <tr>\n",
       "      <th>6725</th>\n",
       "      <td>152702</td>\n",
       "      <td>27.0</td>\n",
       "      <td>4</td>\n",
       "      <td>4.0</td>\n",
       "      <td>37</td>\n",
       "      <td>32.0</td>\n",
       "      <td>66.0</td>\n",
       "      <td>668176.0</td>\n",
       "      <td>Too much ruching</td>\n",
       "      <td>I liked the color, the silhouette, and the fab...</td>\n",
       "    </tr>\n",
       "    <tr>\n",
       "      <th>6726</th>\n",
       "      <td>152702</td>\n",
       "      <td>26.0</td>\n",
       "      <td>4</td>\n",
       "      <td>5.0</td>\n",
       "      <td>36</td>\n",
       "      <td>34.0</td>\n",
       "      <td>66.0</td>\n",
       "      <td>320759.0</td>\n",
       "      <td>Suits my body type!</td>\n",
       "      <td>From the other reviews it seems like this dres...</td>\n",
       "    </tr>\n",
       "    <tr>\n",
       "      <th>6727</th>\n",
       "      <td>152702</td>\n",
       "      <td>NaN</td>\n",
       "      <td>4</td>\n",
       "      <td>3.0</td>\n",
       "      <td>NaN</td>\n",
       "      <td>34.0</td>\n",
       "      <td>63.0</td>\n",
       "      <td>144785.0</td>\n",
       "      <td>I love the design and fit</td>\n",
       "      <td>I love the design and fit of this dress!  I wo...</td>\n",
       "    </tr>\n",
       "    <tr>\n",
       "      <th>6728</th>\n",
       "      <td>152702</td>\n",
       "      <td>25.0</td>\n",
       "      <td>4</td>\n",
       "      <td>3.0</td>\n",
       "      <td>35</td>\n",
       "      <td>32.0</td>\n",
       "      <td>61.0</td>\n",
       "      <td>52664.0</td>\n",
       "      <td>Beautiful Dress!</td>\n",
       "      <td>I bought this dress for work  it is flattering...</td>\n",
       "    </tr>\n",
       "    <tr>\n",
       "      <th>6729</th>\n",
       "      <td>152702</td>\n",
       "      <td>25.0</td>\n",
       "      <td>4</td>\n",
       "      <td>5.0</td>\n",
       "      <td>32</td>\n",
       "      <td>32.0</td>\n",
       "      <td>66.0</td>\n",
       "      <td>155439.0</td>\n",
       "      <td>This is a very profession</td>\n",
       "      <td>This is a very professional look. It is Great ...</td>\n",
       "    </tr>\n",
       "  </tbody>\n",
       "</table>\n",
       "</div>"
      ],
      "text/plain": [
       "      item_id  waist  size  quality hips  bra size  height   user_id  \\\n",
       "6725   152702   27.0     4      4.0   37      32.0    66.0  668176.0   \n",
       "6726   152702   26.0     4      5.0   36      34.0    66.0  320759.0   \n",
       "6727   152702    NaN     4      3.0  NaN      34.0    63.0  144785.0   \n",
       "6728   152702   25.0     4      3.0   35      32.0    61.0   52664.0   \n",
       "6729   152702   25.0     4      5.0   32      32.0    66.0  155439.0   \n",
       "\n",
       "                 review_summary  \\\n",
       "6725           Too much ruching   \n",
       "6726        Suits my body type!   \n",
       "6727  I love the design and fit   \n",
       "6728           Beautiful Dress!   \n",
       "6729  This is a very profession   \n",
       "\n",
       "                                            review_text  \n",
       "6725  I liked the color, the silhouette, and the fab...  \n",
       "6726  From the other reviews it seems like this dres...  \n",
       "6727  I love the design and fit of this dress!  I wo...  \n",
       "6728  I bought this dress for work  it is flattering...  \n",
       "6729  This is a very professional look. It is Great ...  "
      ]
     },
     "execution_count": 22,
     "metadata": {},
     "output_type": "execute_result"
    }
   ],
   "source": [
    "modcloth_df.head()"
   ]
  },
  {
   "cell_type": "markdown",
   "metadata": {},
   "source": [
    "Below is the distribution of the quality rating that we want to predict for the clothing. The ratings display a heavily left-skewed distribution, indicating that the majority of garments receive high scores, reflecting their overall positive evaluation."
   ]
  },
  {
   "cell_type": "code",
   "execution_count": 23,
   "metadata": {},
   "outputs": [
    {
     "data": {
      "text/plain": [
       "<AxesSubplot:ylabel='Frequency'>"
      ]
     },
     "execution_count": 23,
     "metadata": {},
     "output_type": "execute_result"
    },
    {
     "data": {
      "image/png": "[encoded data removed]",
      "text/plain": [
       "<Figure size 1000x500 with 1 Axes>"
      ]
     },
     "metadata": {},
     "output_type": "display_data"
    }
   ],
   "source": [
    "modcloth_df['quality'].plot(kind='hist', bins=[0, 1, 2, 3, 4, 5])"
   ]
  },
  {
   "cell_type": "markdown",
   "metadata": {},
   "source": [
    "First, let's look at if quality differs across different sizes."
   ]
  },
  {
   "cell_type": "code",
   "execution_count": 26,
   "metadata": {},
   "outputs": [
    {
     "data": {
      "image/png": "[encoded data removed]",
      "text/plain": [
       "<Figure size 1000x500 with 1 Axes>"
      ]
     },
     "metadata": {},
     "output_type": "display_data"
    }
   ],
   "source": [
    "modcloth_df.groupby('size')['quality'].mean().plot(kind='bar')\n",
    "plt.ylabel('quality')\n",
    "plt.show()"
   ]
  },
  {
   "cell_type": "markdown",
   "metadata": {},
   "source": [
    "Looks pretty similar across the board, but a spike at size 24, with sizes 0 and 33 being the next highest. These could be outliers, we should check how many users are actually this size. The hypothesis about average size might give a higher rating does not look significant according to the graph shown."
   ]
  },
  {
   "cell_type": "code",
   "execution_count": 24,
   "metadata": {},
   "outputs": [
    {
     "name": "stdout",
     "output_type": "stream",
     "text": [
      "size 0 count: 29\n",
      "size 24 count: 101\n",
      "size 33 count: 39\n"
     ]
    }
   ],
   "source": [
    "print('size 0 count: ' + str(modcloth_df[modcloth_df['size'] == 0].shape[0]))\n",
    "print('size 24 count: ' + str(modcloth_df[modcloth_df['size'] == 24].shape[0]))\n",
    "print('size 33 count: ' + str(modcloth_df[modcloth_df['size'] == 33].shape[0]))"
   ]
  },
  {
   "cell_type": "markdown",
   "metadata": {},
   "source": [
    "Looks like there's enough data that we can use the mean and bar chart we generated above! This also shows, though we did not find a higher rating for the average sizes(medium sizes), this information suggests that size 24 is the more prevalent among the items, probably average sizes is more a customer preferences."
   ]
  },
  {
   "cell_type": "markdown",
   "metadata": {},
   "source": [
    "Now let's look at if height plays a role in quality of clothing. Below is graph showing relationship between the reported height of the customers who brought the item and their rating for the quality of the clothing item on a scale of 1 to 5."
   ]
  },
  {
   "cell_type": "code",
   "execution_count": 25,
   "metadata": {},
   "outputs": [
    {
     "data": {
      "text/plain": [
       "<Axes: xlabel='height', ylabel='quality'>"
      ]
     },
     "execution_count": 25,
     "metadata": {},
     "output_type": "execute_result"
    },
    {
     "data": {
      "image/png": "[encoded data removed]",
      "text/plain": [
       "<Figure size 1000x500 with 1 Axes>"
      ]
     },
     "metadata": {},
     "output_type": "display_data"
    }
   ],
   "source": [
    "modcloth_df.plot(kind='scatter', x='height', y='quality')"
   ]
  },
  {
   "cell_type": "markdown",
   "metadata": {},
   "source": [
    "Looks like the distribution of heights that were \"less\" satisfied is smaller than for those that were more satisfied. Perhaps another similar variable, `waist` measurement of the costumer, can tell us more. Let's explore it."
   ]
  },
  {
   "cell_type": "markdown",
   "metadata": {},
   "source": [
    "Below is a graph showing the distribution of users' mean rating for the quality of the clothing item on a scale of 1 to 5 accross the reported waist measurement categories of customers who brought item(s). It seems there is a slight higher rating on both ends but this could be due to small sample variance."
   ]
  },
  {
   "cell_type": "code",
   "execution_count": 25,
   "metadata": {
    "scrolled": false
   },
   "outputs": [
    {
     "data": {
      "image/png": "[encoded data removed]",
      "text/plain": [
       "<Figure size 1000x500 with 1 Axes>"
      ]
     },
     "metadata": {},
     "output_type": "display_data"
    }
   ],
   "source": [
    "modcloth_df.groupby('waist')['quality'].mean().plot(kind='bar')\n",
    "plt.ylabel('quality')\n",
    "plt.show()"
   ]
  },
  {
   "cell_type": "markdown",
   "metadata": {},
   "source": [
    "We also mentioned relationship between the review text that users gives and the rating of the users. Here we first create a new column to store the text length of the reviews so that we can see if the text length share any patterns with the ratings."
   ]
  },
  {
   "cell_type": "code",
   "execution_count": 27,
   "metadata": {},
   "outputs": [
    {
     "data": {
      "text/html": [
       "<div>\n",
       "<style scoped>\n",
       "    .dataframe tbody tr th:only-of-type {\n",
       "        vertical-align: middle;\n",
       "    }\n",
       "\n",
       "    .dataframe tbody tr th {\n",
       "        vertical-align: top;\n",
       "    }\n",
       "\n",
       "    .dataframe thead th {\n",
       "        text-align: right;\n",
       "    }\n",
       "</style>\n",
       "<table border=\"1\" class=\"dataframe\">\n",
       "  <thead>\n",
       "    <tr style=\"text-align: right;\">\n",
       "      <th></th>\n",
       "      <th>item_id</th>\n",
       "      <th>waist</th>\n",
       "      <th>size</th>\n",
       "      <th>quality</th>\n",
       "      <th>hips</th>\n",
       "      <th>bra size</th>\n",
       "      <th>height</th>\n",
       "      <th>user_id</th>\n",
       "      <th>review_summary</th>\n",
       "      <th>review_text</th>\n",
       "      <th>review_length</th>\n",
       "    </tr>\n",
       "  </thead>\n",
       "  <tbody>\n",
       "    <tr>\n",
       "      <th>6725</th>\n",
       "      <td>152702</td>\n",
       "      <td>27.0</td>\n",
       "      <td>4</td>\n",
       "      <td>4.0</td>\n",
       "      <td>37</td>\n",
       "      <td>32.0</td>\n",
       "      <td>66.0</td>\n",
       "      <td>668176.0</td>\n",
       "      <td>Too much ruching</td>\n",
       "      <td>I liked the color, the silhouette, and the fab...</td>\n",
       "      <td>258</td>\n",
       "    </tr>\n",
       "    <tr>\n",
       "      <th>6726</th>\n",
       "      <td>152702</td>\n",
       "      <td>26.0</td>\n",
       "      <td>4</td>\n",
       "      <td>5.0</td>\n",
       "      <td>36</td>\n",
       "      <td>34.0</td>\n",
       "      <td>66.0</td>\n",
       "      <td>320759.0</td>\n",
       "      <td>Suits my body type!</td>\n",
       "      <td>From the other reviews it seems like this dres...</td>\n",
       "      <td>520</td>\n",
       "    </tr>\n",
       "    <tr>\n",
       "      <th>6727</th>\n",
       "      <td>152702</td>\n",
       "      <td>NaN</td>\n",
       "      <td>4</td>\n",
       "      <td>3.0</td>\n",
       "      <td>NaN</td>\n",
       "      <td>34.0</td>\n",
       "      <td>63.0</td>\n",
       "      <td>144785.0</td>\n",
       "      <td>I love the design and fit</td>\n",
       "      <td>I love the design and fit of this dress!  I wo...</td>\n",
       "      <td>243</td>\n",
       "    </tr>\n",
       "    <tr>\n",
       "      <th>6728</th>\n",
       "      <td>152702</td>\n",
       "      <td>25.0</td>\n",
       "      <td>4</td>\n",
       "      <td>3.0</td>\n",
       "      <td>35</td>\n",
       "      <td>32.0</td>\n",
       "      <td>61.0</td>\n",
       "      <td>52664.0</td>\n",
       "      <td>Beautiful Dress!</td>\n",
       "      <td>I bought this dress for work  it is flattering...</td>\n",
       "      <td>381</td>\n",
       "    </tr>\n",
       "    <tr>\n",
       "      <th>6729</th>\n",
       "      <td>152702</td>\n",
       "      <td>25.0</td>\n",
       "      <td>4</td>\n",
       "      <td>5.0</td>\n",
       "      <td>32</td>\n",
       "      <td>32.0</td>\n",
       "      <td>66.0</td>\n",
       "      <td>155439.0</td>\n",
       "      <td>This is a very profession</td>\n",
       "      <td>This is a very professional look. It is Great ...</td>\n",
       "      <td>56</td>\n",
       "    </tr>\n",
       "  </tbody>\n",
       "</table>\n",
       "</div>"
      ],
      "text/plain": [
       "      item_id  waist  size  quality hips  bra size  height   user_id  \\\n",
       "6725   152702   27.0     4      4.0   37      32.0    66.0  668176.0   \n",
       "6726   152702   26.0     4      5.0   36      34.0    66.0  320759.0   \n",
       "6727   152702    NaN     4      3.0  NaN      34.0    63.0  144785.0   \n",
       "6728   152702   25.0     4      3.0   35      32.0    61.0   52664.0   \n",
       "6729   152702   25.0     4      5.0   32      32.0    66.0  155439.0   \n",
       "\n",
       "                 review_summary  \\\n",
       "6725           Too much ruching   \n",
       "6726        Suits my body type!   \n",
       "6727  I love the design and fit   \n",
       "6728           Beautiful Dress!   \n",
       "6729  This is a very profession   \n",
       "\n",
       "                                            review_text  review_length  \n",
       "6725  I liked the color, the silhouette, and the fab...            258  \n",
       "6726  From the other reviews it seems like this dres...            520  \n",
       "6727  I love the design and fit of this dress!  I wo...            243  \n",
       "6728  I bought this dress for work  it is flattering...            381  \n",
       "6729  This is a very professional look. It is Great ...             56  "
      ]
     },
     "execution_count": 27,
     "metadata": {},
     "output_type": "execute_result"
    }
   ],
   "source": [
    "modcloth_df['review_length'] = modcloth_df['review_text'].str.len()\n",
    "modcloth_df.head()"
   ]
  },
  {
   "cell_type": "markdown",
   "metadata": {},
   "source": [
    "Now we will look at review length and quality rating. The graph below shows distribution and descriptions of review text length in box plots across the rating categories."
   ]
  },
  {
   "cell_type": "code",
   "execution_count": 28,
   "metadata": {},
   "outputs": [
    {
     "data": {
      "image/png": "[encoded data removed]",
      "text/plain": [
       "<Figure size 1000x500 with 1 Axes>"
      ]
     },
     "metadata": {},
     "output_type": "display_data"
    }
   ],
   "source": [
    "modcloth_df.boxplot(column='review_length', by='quality')\n",
    "plt.ylabel('review_length')\n",
    "plt.show()"
   ]
  },
  {
   "cell_type": "markdown",
   "metadata": {},
   "source": [
    "We see the median and percent quantiles is lower for the rating category of 3.0. This implies people might express themselves more when they are very satisfied or very unsatisfied compared to when they think the quality is average, not good nor bad."
   ]
  },
  {
   "cell_type": "markdown",
   "metadata": {},
   "source": [
    "## EDA on Renttherunway Data\n",
    "\n",
    "We will explore ratings and how it differs across different factors such as the category of the item, body type, and body measurements."
   ]
  },
  {
   "cell_type": "code",
   "execution_count": 29,
   "metadata": {},
   "outputs": [
    {
     "data": {
      "text/html": [
       "<div>\n",
       "<style scoped>\n",
       "    .dataframe tbody tr th:only-of-type {\n",
       "        vertical-align: middle;\n",
       "    }\n",
       "\n",
       "    .dataframe tbody tr th {\n",
       "        vertical-align: top;\n",
       "    }\n",
       "\n",
       "    .dataframe thead th {\n",
       "        text-align: right;\n",
       "    }\n",
       "</style>\n",
       "<table border=\"1\" class=\"dataframe\">\n",
       "  <thead>\n",
       "    <tr style=\"text-align: right;\">\n",
       "      <th></th>\n",
       "      <th>user_id</th>\n",
       "      <th>bust size</th>\n",
       "      <th>item_id</th>\n",
       "      <th>rating</th>\n",
       "      <th>review_text</th>\n",
       "      <th>body type</th>\n",
       "      <th>review_summary</th>\n",
       "      <th>category</th>\n",
       "      <th>size</th>\n",
       "      <th>review_date</th>\n",
       "      <th>weight_lbs</th>\n",
       "      <th>height_in</th>\n",
       "    </tr>\n",
       "  </thead>\n",
       "  <tbody>\n",
       "    <tr>\n",
       "      <th>0</th>\n",
       "      <td>420272</td>\n",
       "      <td>34d</td>\n",
       "      <td>2260466</td>\n",
       "      <td>10</td>\n",
       "      <td>An adorable romper! Belt and zipper were a lit...</td>\n",
       "      <td>hourglass</td>\n",
       "      <td>So many compliments!</td>\n",
       "      <td>romper</td>\n",
       "      <td>14</td>\n",
       "      <td>2016-04-20</td>\n",
       "      <td>137.0</td>\n",
       "      <td>68.0</td>\n",
       "    </tr>\n",
       "    <tr>\n",
       "      <th>1</th>\n",
       "      <td>273551</td>\n",
       "      <td>34b</td>\n",
       "      <td>153475</td>\n",
       "      <td>10</td>\n",
       "      <td>I rented this dress for a photo shoot. The the...</td>\n",
       "      <td>straight &amp; narrow</td>\n",
       "      <td>I felt so glamourous!!!</td>\n",
       "      <td>gown</td>\n",
       "      <td>12</td>\n",
       "      <td>2013-06-18</td>\n",
       "      <td>132.0</td>\n",
       "      <td>66.0</td>\n",
       "    </tr>\n",
       "    <tr>\n",
       "      <th>3</th>\n",
       "      <td>909926</td>\n",
       "      <td>34c</td>\n",
       "      <td>126335</td>\n",
       "      <td>8</td>\n",
       "      <td>I rented this for my company's black tie award...</td>\n",
       "      <td>pear</td>\n",
       "      <td>Dress arrived on time and in perfect condition.</td>\n",
       "      <td>dress</td>\n",
       "      <td>8</td>\n",
       "      <td>2014-02-12</td>\n",
       "      <td>135.0</td>\n",
       "      <td>65.0</td>\n",
       "    </tr>\n",
       "    <tr>\n",
       "      <th>4</th>\n",
       "      <td>151944</td>\n",
       "      <td>34b</td>\n",
       "      <td>616682</td>\n",
       "      <td>10</td>\n",
       "      <td>I have always been petite in my upper body and...</td>\n",
       "      <td>athletic</td>\n",
       "      <td>Was in love with this dress !!!</td>\n",
       "      <td>gown</td>\n",
       "      <td>12</td>\n",
       "      <td>2016-09-26</td>\n",
       "      <td>145.0</td>\n",
       "      <td>69.0</td>\n",
       "    </tr>\n",
       "    <tr>\n",
       "      <th>5</th>\n",
       "      <td>734848</td>\n",
       "      <td>32b</td>\n",
       "      <td>364092</td>\n",
       "      <td>8</td>\n",
       "      <td>Didn't actually wear it. It fit perfectly. The...</td>\n",
       "      <td>athletic</td>\n",
       "      <td>Traditional with a touch a sass</td>\n",
       "      <td>dress</td>\n",
       "      <td>8</td>\n",
       "      <td>2016-04-30</td>\n",
       "      <td>138.0</td>\n",
       "      <td>68.0</td>\n",
       "    </tr>\n",
       "  </tbody>\n",
       "</table>\n",
       "</div>"
      ],
      "text/plain": [
       "   user_id bust size  item_id  rating  \\\n",
       "0   420272       34d  2260466      10   \n",
       "1   273551       34b   153475      10   \n",
       "3   909926       34c   126335       8   \n",
       "4   151944       34b   616682      10   \n",
       "5   734848       32b   364092       8   \n",
       "\n",
       "                                         review_text          body type  \\\n",
       "0  An adorable romper! Belt and zipper were a lit...          hourglass   \n",
       "1  I rented this dress for a photo shoot. The the...  straight & narrow   \n",
       "3  I rented this for my company's black tie award...               pear   \n",
       "4  I have always been petite in my upper body and...           athletic   \n",
       "5  Didn't actually wear it. It fit perfectly. The...           athletic   \n",
       "\n",
       "                                     review_summary category  size  \\\n",
       "0                              So many compliments!   romper    14   \n",
       "1                           I felt so glamourous!!!     gown    12   \n",
       "3  Dress arrived on time and in perfect condition.     dress     8   \n",
       "4                   Was in love with this dress !!!     gown    12   \n",
       "5                   Traditional with a touch a sass    dress     8   \n",
       "\n",
       "  review_date  weight_lbs  height_in  \n",
       "0  2016-04-20       137.0       68.0  \n",
       "1  2013-06-18       132.0       66.0  \n",
       "3  2014-02-12       135.0       65.0  \n",
       "4  2016-09-26       145.0       69.0  \n",
       "5  2016-04-30       138.0       68.0  "
      ]
     },
     "execution_count": 29,
     "metadata": {},
     "output_type": "execute_result"
    }
   ],
   "source": [
    "rtr_df.head()"
   ]
  },
  {
   "cell_type": "markdown",
   "metadata": {},
   "source": [
    "This histogram below shows the general clothing rating distribution of all user-item pair, each item purchase by each user, on a scale of 0-10. We observe a highly left skewed plot, which suggests most rating are high. People are generally satisfied with their purchases. We want to know more about what resulted in the lower ratings."
   ]
  },
  {
   "cell_type": "code",
   "execution_count": 30,
   "metadata": {},
   "outputs": [
    {
     "data": {
      "text/plain": [
       "<AxesSubplot:ylabel='Frequency'>"
      ]
     },
     "execution_count": 30,
     "metadata": {},
     "output_type": "execute_result"
    },
    {
     "data": {
      "image/png": "[encoded data removed]",
      "text/plain": [
       "<Figure size 1000x500 with 1 Axes>"
      ]
     },
     "metadata": {},
     "output_type": "display_data"
    }
   ],
   "source": [
    "rtr_df['rating'].plot(kind='hist', bins=[0, 2, 4, 6, 8, 10])"
   ]
  },
  {
   "cell_type": "markdown",
   "metadata": {},
   "source": [
    "Let's look at how different clothing items were rated. Clothes are sorted into categories shown below. We see the mean rating for the purchase of cloth across cloth categories, which we are interested as mentioned in the research question. Certain categories might have a higher rating due to factors like users' more personal customization for certain categories, the price is higher, etc."
   ]
  },
  {
   "cell_type": "code",
   "execution_count": 31,
   "metadata": {},
   "outputs": [
    {
     "data": {
      "image/png": "[encoded data removed]",
      "text/plain": [
       "<Figure size 1000x500 with 1 Axes>"
      ]
     },
     "metadata": {},
     "output_type": "display_data"
    }
   ],
   "source": [
    "rtr_df.groupby('category')['rating'].mean().sort_values().plot(kind='bar')\n",
    "plt.ylabel('rating')\n",
    "plt.show()"
   ]
  },
  {
   "cell_type": "markdown",
   "metadata": {},
   "source": [
    "It looks like jeans had the worst rating out of all categories, and crewnecks, sweatpants, and overcoats had the highest ratings. Let's look at a similar plot for body types."
   ]
  },
  {
   "cell_type": "code",
   "execution_count": 32,
   "metadata": {},
   "outputs": [
    {
     "data": {
      "image/png": "[encoded data removed]",
      "text/plain": [
       "<Figure size 1000x500 with 1 Axes>"
      ]
     },
     "metadata": {},
     "output_type": "display_data"
    }
   ],
   "source": [
    "rtr_df.groupby('body type')['rating'].mean().sort_values().plot(kind='bar')\n",
    "plt.ylabel('rating')\n",
    "plt.show()"
   ]
  },
  {
   "cell_type": "markdown",
   "metadata": {},
   "source": [
    "Seems like ratings were pretty even across all body types. We probably won't look at this variable very much when we make our model."
   ]
  },
  {
   "cell_type": "markdown",
   "metadata": {},
   "source": [
    "Now let's see if the user's body measurements tell us anthing about rating."
   ]
  },
  {
   "cell_type": "code",
   "execution_count": 33,
   "metadata": {},
   "outputs": [
    {
     "data": {
      "text/plain": [
       "<AxesSubplot:xlabel='height_in', ylabel='rating'>"
      ]
     },
     "execution_count": 33,
     "metadata": {},
     "output_type": "execute_result"
    },
    {
     "data": {
      "image/png": "[encoded data removed]",
      "text/plain": [
       "<Figure size 1000x500 with 1 Axes>"
      ]
     },
     "metadata": {},
     "output_type": "display_data"
    }
   ],
   "source": [
    "rtr_df.plot(kind='scatter', x='height_in', y='rating')"
   ]
  },
  {
   "cell_type": "code",
   "execution_count": 34,
   "metadata": {},
   "outputs": [
    {
     "data": {
      "text/plain": [
       "<AxesSubplot:xlabel='weight_lbs', ylabel='rating'>"
      ]
     },
     "execution_count": 34,
     "metadata": {},
     "output_type": "execute_result"
    },
    {
     "data": {
      "image/png": "[encoded data removed]",
      "text/plain": [
       "<Figure size 1000x500 with 1 Axes>"
      ]
     },
     "metadata": {},
     "output_type": "display_data"
    }
   ],
   "source": [
    "rtr_df.plot(kind='scatter', x='weight_lbs', y='rating')"
   ]
  },
  {
   "cell_type": "markdown",
   "metadata": {},
   "source": [
    "Height seems to have even distribution of ratings, but as in the Modcloth dataframe above, weight has a smaller spread for lower ratings."
   ]
  },
  {
   "cell_type": "code",
   "execution_count": 35,
   "metadata": {},
   "outputs": [
    {
     "data": {
      "text/html": [
       "<div>\n",
       "<style scoped>\n",
       "    .dataframe tbody tr th:only-of-type {\n",
       "        vertical-align: middle;\n",
       "    }\n",
       "\n",
       "    .dataframe tbody tr th {\n",
       "        vertical-align: top;\n",
       "    }\n",
       "\n",
       "    .dataframe thead th {\n",
       "        text-align: right;\n",
       "    }\n",
       "</style>\n",
       "<table border=\"1\" class=\"dataframe\">\n",
       "  <thead>\n",
       "    <tr style=\"text-align: right;\">\n",
       "      <th></th>\n",
       "      <th>user_id</th>\n",
       "      <th>bust size</th>\n",
       "      <th>item_id</th>\n",
       "      <th>rating</th>\n",
       "      <th>review_text</th>\n",
       "      <th>body type</th>\n",
       "      <th>review_summary</th>\n",
       "      <th>category</th>\n",
       "      <th>size</th>\n",
       "      <th>review_date</th>\n",
       "      <th>weight_lbs</th>\n",
       "      <th>height_in</th>\n",
       "      <th>review_length</th>\n",
       "    </tr>\n",
       "  </thead>\n",
       "  <tbody>\n",
       "    <tr>\n",
       "      <th>0</th>\n",
       "      <td>420272</td>\n",
       "      <td>34d</td>\n",
       "      <td>2260466</td>\n",
       "      <td>10</td>\n",
       "      <td>An adorable romper! Belt and zipper were a lit...</td>\n",
       "      <td>hourglass</td>\n",
       "      <td>So many compliments!</td>\n",
       "      <td>romper</td>\n",
       "      <td>14</td>\n",
       "      <td>2016-04-20</td>\n",
       "      <td>137.0</td>\n",
       "      <td>68.0</td>\n",
       "      <td>221</td>\n",
       "    </tr>\n",
       "    <tr>\n",
       "      <th>1</th>\n",
       "      <td>273551</td>\n",
       "      <td>34b</td>\n",
       "      <td>153475</td>\n",
       "      <td>10</td>\n",
       "      <td>I rented this dress for a photo shoot. The the...</td>\n",
       "      <td>straight &amp; narrow</td>\n",
       "      <td>I felt so glamourous!!!</td>\n",
       "      <td>gown</td>\n",
       "      <td>12</td>\n",
       "      <td>2013-06-18</td>\n",
       "      <td>132.0</td>\n",
       "      <td>66.0</td>\n",
       "      <td>221</td>\n",
       "    </tr>\n",
       "    <tr>\n",
       "      <th>3</th>\n",
       "      <td>909926</td>\n",
       "      <td>34c</td>\n",
       "      <td>126335</td>\n",
       "      <td>8</td>\n",
       "      <td>I rented this for my company's black tie award...</td>\n",
       "      <td>pear</td>\n",
       "      <td>Dress arrived on time and in perfect condition.</td>\n",
       "      <td>dress</td>\n",
       "      <td>8</td>\n",
       "      <td>2014-02-12</td>\n",
       "      <td>135.0</td>\n",
       "      <td>65.0</td>\n",
       "      <td>465</td>\n",
       "    </tr>\n",
       "    <tr>\n",
       "      <th>4</th>\n",
       "      <td>151944</td>\n",
       "      <td>34b</td>\n",
       "      <td>616682</td>\n",
       "      <td>10</td>\n",
       "      <td>I have always been petite in my upper body and...</td>\n",
       "      <td>athletic</td>\n",
       "      <td>Was in love with this dress !!!</td>\n",
       "      <td>gown</td>\n",
       "      <td>12</td>\n",
       "      <td>2016-09-26</td>\n",
       "      <td>145.0</td>\n",
       "      <td>69.0</td>\n",
       "      <td>559</td>\n",
       "    </tr>\n",
       "    <tr>\n",
       "      <th>5</th>\n",
       "      <td>734848</td>\n",
       "      <td>32b</td>\n",
       "      <td>364092</td>\n",
       "      <td>8</td>\n",
       "      <td>Didn't actually wear it. It fit perfectly. The...</td>\n",
       "      <td>athletic</td>\n",
       "      <td>Traditional with a touch a sass</td>\n",
       "      <td>dress</td>\n",
       "      <td>8</td>\n",
       "      <td>2016-04-30</td>\n",
       "      <td>138.0</td>\n",
       "      <td>68.0</td>\n",
       "      <td>195</td>\n",
       "    </tr>\n",
       "  </tbody>\n",
       "</table>\n",
       "</div>"
      ],
      "text/plain": [
       "   user_id bust size  item_id  rating  \\\n",
       "0   420272       34d  2260466      10   \n",
       "1   273551       34b   153475      10   \n",
       "3   909926       34c   126335       8   \n",
       "4   151944       34b   616682      10   \n",
       "5   734848       32b   364092       8   \n",
       "\n",
       "                                         review_text          body type  \\\n",
       "0  An adorable romper! Belt and zipper were a lit...          hourglass   \n",
       "1  I rented this dress for a photo shoot. The the...  straight & narrow   \n",
       "3  I rented this for my company's black tie award...               pear   \n",
       "4  I have always been petite in my upper body and...           athletic   \n",
       "5  Didn't actually wear it. It fit perfectly. The...           athletic   \n",
       "\n",
       "                                     review_summary category  size  \\\n",
       "0                              So many compliments!   romper    14   \n",
       "1                           I felt so glamourous!!!     gown    12   \n",
       "3  Dress arrived on time and in perfect condition.     dress     8   \n",
       "4                   Was in love with this dress !!!     gown    12   \n",
       "5                   Traditional with a touch a sass    dress     8   \n",
       "\n",
       "  review_date  weight_lbs  height_in  review_length  \n",
       "0  2016-04-20       137.0       68.0            221  \n",
       "1  2013-06-18       132.0       66.0            221  \n",
       "3  2014-02-12       135.0       65.0            465  \n",
       "4  2016-09-26       145.0       69.0            559  \n",
       "5  2016-04-30       138.0       68.0            195  "
      ]
     },
     "execution_count": 35,
     "metadata": {},
     "output_type": "execute_result"
    }
   ],
   "source": [
    "#Records the length of the review for each user-item rating\n",
    "rtr_df['review_length'] = rtr_df['review_text'].str.len()\n",
    "rtr_df.head()"
   ]
  },
  {
   "cell_type": "markdown",
   "metadata": {},
   "source": [
    "The graph below is the distribution and descriptions of review text length in box plots across the rating categories for the users who purchased clothing on this online shopping platform. From the following, se see the review is shorter for the lower ratings and seems to suggests the reviews that longer are usually from users who are more satisfied. This is an interesting point we can include in our later model."
   ]
  },
  {
   "cell_type": "code",
   "execution_count": 36,
   "metadata": {},
   "outputs": [
    {
     "data": {
      "image/png": "[encoded data removed]",
      "text/plain": [
       "<Figure size 1000x500 with 1 Axes>"
      ]
     },
     "metadata": {},
     "output_type": "display_data"
    }
   ],
   "source": [
    "rtr_df.boxplot(column='review_length', by='rating')\n",
    "plt.ylabel('review_length')\n",
    "plt.show()"
   ]
  },
  {
   "cell_type": "markdown",
   "metadata": {},
   "source": [
    "### Summary of our EDA\n",
    "\n",
    "Based on the Exploratory Data Analysis (EDA) conducted on the Modcloth and Renttherunway datasets, we have gained valuable insights into the factors influencing quality ratings for clothing items. The user reviews are potential factors that we can use for our prediction model since its length suggests a relationship with the clothing ratings. Body measurement of users and other features of clothing did not show a clear trend or pattern correlating with the ratings.\n",
    "\n",
    "Modcloth Data:\n",
    "In our exploration of the Modcloth dataset, we first examined the distribution of quality ratings for clothing items. This analysis revealed a heavily left-skewed distribution, indicating that the majority of garments received high ratings, reflecting a general satisfaction among customers.\n",
    "Further investigation into the relationship between quality ratings and clothing sizes unveiled they did not seem correlated.\n",
    "We also explored whether customer height and waist measurements played a role in quality ratings. While there are slight changes accross the different categories, it was not a clear contribution to the ratings. \n",
    "Lastly, we examined the length of review texts in relation to quality ratings. Our findings indicated that reviews tended to be shorter for lower ratings, while longer reviews were more prevalent among higher ratings. This suggests that satisfied customers may be more inclined to provide detailed feedback.\n",
    "\n",
    "Renttherunway Data:\n",
    "Turning our attention to the Renttherunway dataset, we first investigated the overall distribution of clothing ratings. Similar to the Modcloth dataset, we observed a highly left-skewed plot, indicating high satisfaction levels among users.Delving deeper, we analyzed ratings across different clothing categories, revealing that jeans had the lowest ratings, while items such as crewnecks, sweatpants, and overcoats received the highest ratings. This suggests potential disparities in customer satisfaction across various product categories.\n",
    "We also examined ratings across different body types, and user body measurement like weight and height, finding relatively even distributions across all categories. This implies that they may not significantly impact clothing ratings.\n",
    "Finally, we investigated the length of review texts across rating categories. Consistent with our findings in the Modcloth dataset, we observed that reviews tended to be shorter for lower ratings, while longer reviews were more prevalent among higher ratings. This underscores the importance of review text length as a potential predictor of user satisfaction.\n",
    "\n",
    "In summary, our EDA of both datasets has provided valuable insights into the factors influencing clothing quality ratings. These insights will serve as a foundation for the development of predictive models aimed at forecasting ratings based on review text and removing body measurements which are not a significant factor as thought in hypothesis."
   ]
  },
  {
   "cell_type": "markdown",
   "metadata": {},
   "source": [
    "## Prediction Model\n",
    "\n",
    "Let's see if we can use our findings from above to make a prediction model that predicts the rating of an item of clothing."
   ]
  },
  {
   "cell_type": "markdown",
   "metadata": {},
   "source": [
    "First, we will try to predict the `quality` column from other columns in the dataset."
   ]
  },
  {
   "cell_type": "code",
   "execution_count": 38,
   "metadata": {},
   "outputs": [],
   "source": [
    "train_mc_df = modcloth_df.dropna(subset = ['review_length', 'size', 'height', 'quality'])"
   ]
  },
  {
   "cell_type": "markdown",
   "metadata": {},
   "source": [
    "Split the data into training and test sets, and separate the `X` and `y` columns we want to use."
   ]
  },
  {
   "cell_type": "code",
   "execution_count": 39,
   "metadata": {},
   "outputs": [],
   "source": [
    "num_training = int(0.8 * train_mc_df.shape[0])\n",
    "num_testing = train_mc_df.shape[0] - num_training"
   ]
  },
  {
   "cell_type": "code",
   "execution_count": 40,
   "metadata": {},
   "outputs": [],
   "source": [
    "modcloth_X = train_mc_df[['review_length', 'size', 'height']]\n",
    "modcloth_Y = np.array(train_mc_df['quality'])"
   ]
  },
  {
   "cell_type": "code",
   "execution_count": 41,
   "metadata": {},
   "outputs": [],
   "source": [
    "modcloth_train_X = modcloth_X.iloc[:num_training]\n",
    "modcloth_test_X = modcloth_X.iloc[num_training:]\n",
    "modcloth_train_Y = modcloth_Y[:num_training]\n",
    "modcloth_test_Y = modcloth_Y[num_training:]"
   ]
  },
  {
   "cell_type": "markdown",
   "metadata": {},
   "source": [
    "Define a function that fits the model, in this case an SVC with a linear kernel."
   ]
  },
  {
   "cell_type": "code",
   "execution_count": 42,
   "metadata": {},
   "outputs": [],
   "source": [
    "def train_SVM(X, y, kernel='linear'):\n",
    "    clf = SVC(kernel=kernel)\n",
    "    clf.fit(X, y)\n",
    "    \n",
    "    return clf"
   ]
  },
  {
   "cell_type": "markdown",
   "metadata": {},
   "source": [
    "Fit our training data, then predict using the model."
   ]
  },
  {
   "cell_type": "code",
   "execution_count": 45,
   "metadata": {},
   "outputs": [],
   "source": [
    "modcloth_clf = train_SVM(modcloth_train_X, modcloth_train_Y)"
   ]
  },
  {
   "cell_type": "code",
   "execution_count": 46,
   "metadata": {},
   "outputs": [],
   "source": [
    "modcloth_predicted_train_Y = modcloth_clf.predict(modcloth_train_X)\n",
    "modcloth_predicted_test_Y = modcloth_clf.predict(modcloth_test_X)"
   ]
  },
  {
   "cell_type": "markdown",
   "metadata": {},
   "source": [
    "Print out the classification report for our train and test sets."
   ]
  },
  {
   "cell_type": "code",
   "execution_count": 47,
   "metadata": {
    "scrolled": true,
    "slideshow": {
     "slide_type": "-"
    }
   },
   "outputs": [
    {
     "name": "stdout",
     "output_type": "stream",
     "text": [
      "              precision    recall  f1-score   support\n",
      "\n",
      "         1.0       0.00      0.00      0.00       971\n",
      "         2.0       0.00      0.00      0.00      3748\n",
      "         3.0       0.00      0.00      0.00     14149\n",
      "         4.0       0.00      0.00      0.00     19639\n",
      "         5.0       0.36      1.00      0.52     21206\n",
      "\n",
      "    accuracy                           0.36     59713\n",
      "   macro avg       0.07      0.20      0.10     59713\n",
      "weighted avg       0.13      0.36      0.19     59713\n",
      "\n"
     ]
    }
   ],
   "source": [
    "class_report_train = classification_report(modcloth_train_Y, modcloth_predicted_train_Y)\n",
    "print(class_report_train)"
   ]
  },
  {
   "cell_type": "code",
   "execution_count": 48,
   "metadata": {
    "scrolled": true
   },
   "outputs": [
    {
     "name": "stdout",
     "output_type": "stream",
     "text": [
      "              precision    recall  f1-score   support\n",
      "\n",
      "         1.0       0.00      0.00      0.00       248\n",
      "         2.0       0.00      0.00      0.00       869\n",
      "         3.0       0.00      0.00      0.00      3445\n",
      "         4.0       0.00      0.00      0.00      4768\n",
      "         5.0       0.38      1.00      0.55      5599\n",
      "\n",
      "    accuracy                           0.38     14929\n",
      "   macro avg       0.08      0.20      0.11     14929\n",
      "weighted avg       0.14      0.38      0.20     14929\n",
      "\n"
     ]
    }
   ],
   "source": [
    "class_report_test = classification_report(modcloth_test_Y, modcloth_predicted_test_Y)\n",
    "print(class_report_test)"
   ]
  },
  {
   "cell_type": "markdown",
   "metadata": {},
   "source": [
    "As we see above, precicion, recall, and f1-score were all 0 for all rating classes besides 5, and overall accuracy is low. This might not be the best model or perhaps there is no pattern in these columns that tell us anything about quality rating."
   ]
  },
  {
   "cell_type": "markdown",
   "metadata": {},
   "source": [
    "Let's try the same model on the Renttherunway dataset, using similar columns to see if the model is any better here."
   ]
  },
  {
   "cell_type": "code",
   "execution_count": 55,
   "metadata": {},
   "outputs": [],
   "source": [
    "train_rtr_df = rtr_df.dropna(subset = ['weight_lbs', 'height_in', 'size', 'rating'])"
   ]
  },
  {
   "cell_type": "markdown",
   "metadata": {},
   "source": [
    "Again, after dropping NaN rows, we separate the data into `X` and `y` and train and test sets."
   ]
  },
  {
   "cell_type": "code",
   "execution_count": 56,
   "metadata": {},
   "outputs": [],
   "source": [
    "rtr_X = train_rtr_df[['weight_lbs', 'height_in', 'size']]\n",
    "rtr_Y = np.array(train_rtr_df['rating'])"
   ]
  },
  {
   "cell_type": "code",
   "execution_count": 57,
   "metadata": {},
   "outputs": [],
   "source": [
    "rtr_train_X = rtr_X.iloc[:num_training]\n",
    "rtr_test_X = rtr_X.iloc[num_training:]\n",
    "rtr_train_Y = rtr_Y[:num_training]\n",
    "rtr_test_Y = rtr_Y[num_training:]"
   ]
  },
  {
   "cell_type": "markdown",
   "metadata": {},
   "source": [
    "Train the data using the same classifier as before."
   ]
  },
  {
   "cell_type": "code",
   "execution_count": 58,
   "metadata": {},
   "outputs": [],
   "source": [
    "rtr_clf = train_SVM(rtr_train_X, rtr_train_Y)"
   ]
  },
  {
   "cell_type": "code",
   "execution_count": 59,
   "metadata": {},
   "outputs": [],
   "source": [
    "rtr_predicted_train_Y = rtr_clf.predict(rtr_train_X)\n",
    "rtr_predicted_test_Y = rtr_clf.predict(rtr_test_X)"
   ]
  },
  {
   "cell_type": "markdown",
   "metadata": {},
   "source": [
    "Print report on the scores of the train and test sets."
   ]
  },
  {
   "cell_type": "code",
   "execution_count": 60,
   "metadata": {},
   "outputs": [
    {
     "name": "stdout",
     "output_type": "stream",
     "text": [
      "              precision    recall  f1-score   support\n",
      "\n",
      "           2       0.00      0.00      0.00       306\n",
      "           4       0.00      0.00      0.00       909\n",
      "           6       0.00      0.00      0.00      3357\n",
      "           8       0.00      0.00      0.00     16503\n",
      "          10       0.65      1.00      0.79     38638\n",
      "\n",
      "    accuracy                           0.65     59713\n",
      "   macro avg       0.13      0.20      0.16     59713\n",
      "weighted avg       0.42      0.65      0.51     59713\n",
      "\n"
     ]
    }
   ],
   "source": [
    "class_report_train = classification_report(rtr_train_Y, rtr_predicted_train_Y)\n",
    "print(class_report_train)"
   ]
  },
  {
   "cell_type": "code",
   "execution_count": 61,
   "metadata": {
    "scrolled": true
   },
   "outputs": [
    {
     "name": "stdout",
     "output_type": "stream",
     "text": [
      "              precision    recall  f1-score   support\n",
      "\n",
      "           2       0.00      0.00      0.00       480\n",
      "           4       0.00      0.00      0.00      1298\n",
      "           6       0.00      0.00      0.00      5003\n",
      "           8       0.00      0.00      0.00     24350\n",
      "          10       0.64      1.00      0.78     55864\n",
      "\n",
      "    accuracy                           0.64     86995\n",
      "   macro avg       0.13      0.20      0.16     86995\n",
      "weighted avg       0.41      0.64      0.50     86995\n",
      "\n"
     ]
    }
   ],
   "source": [
    "class_report_test = classification_report(rtr_test_Y, rtr_predicted_test_Y)\n",
    "print(class_report_test)"
   ]
  },
  {
   "cell_type": "markdown",
   "metadata": {},
   "source": [
    "Definitely higher accuracy, though one class seems to perform better. This could be due to a class imbalance for ratings of 10."
   ]
  },
  {
   "cell_type": "markdown",
   "metadata": {},
   "source": [
    "### TF-IDF\n",
    "\n",
    "Instead of looking at quanitative columns, let's look at the `review_text` column instead. Perhaps what users are saying better reflect how they rate a product."
   ]
  },
  {
   "cell_type": "markdown",
   "metadata": {},
   "source": [
    "First, create the TF-IDF vectorizer."
   ]
  },
  {
   "cell_type": "code",
   "execution_count": 64,
   "metadata": {},
   "outputs": [],
   "source": [
    "tfidf = TfidfVectorizer(sublinear_tf=True, analyzer='word', max_features=2000, tokenizer=word_tokenize)"
   ]
  },
  {
   "cell_type": "markdown",
   "metadata": {},
   "source": [
    "Drop NaN rows and split into `X` and `y` sets."
   ]
  },
  {
   "cell_type": "code",
   "execution_count": 65,
   "metadata": {},
   "outputs": [],
   "source": [
    "mc_df = modcloth_df.dropna(subset = ['review_text', 'quality'])\n",
    "\n",
    "mc_tfidf_X = tfidf.fit_transform(mc_df['review_text']).toarray()\n",
    "mc_Y = mc_df['quality']"
   ]
  },
  {
   "cell_type": "markdown",
   "metadata": {},
   "source": [
    "Split into train and test sets."
   ]
  },
  {
   "cell_type": "code",
   "execution_count": 66,
   "metadata": {},
   "outputs": [],
   "source": [
    "mc_train_tfidf_X, mc_test_tfidf_X, mc_train_tfidf_Y, mc_test_tfidf_Y = train_test_split(\n",
    "    mc_tfidf_X, mc_Y, test_size=0.2, random_state=200)"
   ]
  },
  {
   "cell_type": "markdown",
   "metadata": {},
   "source": [
    "We define a new classifier this time. We want to standardize the data first, then use a LinearSVC."
   ]
  },
  {
   "cell_type": "code",
   "execution_count": 67,
   "metadata": {},
   "outputs": [],
   "source": [
    "def train_SVM(X, y):\n",
    "    clf = Pipeline([('scaler', StandardScaler()), ('clf', LinearSVC())])\n",
    "    clf.fit(X, y)\n",
    "    return clf"
   ]
  },
  {
   "cell_type": "markdown",
   "metadata": {},
   "source": [
    "Fit the classifier on our training data."
   ]
  },
  {
   "cell_type": "code",
   "execution_count": 56,
   "metadata": {},
   "outputs": [],
   "source": [
    "mc_tfidf_clf = train_SVM(mc_train_tfidf_X, mc_train_tfidf_Y)"
   ]
  },
  {
   "cell_type": "markdown",
   "metadata": {},
   "source": [
    "Use the model to predict the `rating` of an item of clothing."
   ]
  },
  {
   "cell_type": "code",
   "execution_count": 57,
   "metadata": {},
   "outputs": [],
   "source": [
    "mc_pred_train_tfidf_Y = mc_tfidf_clf.predict(mc_train_tfidf_X)\n",
    "mc_pred_test_tfidf_Y = mc_tfidf_clf.predict(mc_test_tfidf_X)"
   ]
  },
  {
   "cell_type": "markdown",
   "metadata": {},
   "source": [
    "Get the classification report of our train and test data."
   ]
  },
  {
   "cell_type": "code",
   "execution_count": 58,
   "metadata": {
    "scrolled": false
   },
   "outputs": [
    {
     "name": "stdout",
     "output_type": "stream",
     "text": [
      "train:\n",
      "              precision    recall  f1-score   support\n",
      "\n",
      "         1.0       0.62      0.39      0.48       992\n",
      "         2.0       0.33      0.27      0.30      3652\n",
      "         3.0       0.36      0.33      0.35     13925\n",
      "         4.0       0.40      0.38      0.39     19646\n",
      "         5.0       0.51      0.57      0.54     21498\n",
      "\n",
      "    accuracy                           0.43     59713\n",
      "   macro avg       0.44      0.39      0.41     59713\n",
      "weighted avg       0.43      0.43      0.43     59713\n",
      "\n",
      "test:\n",
      "              precision    recall  f1-score   support\n",
      "\n",
      "         1.0       0.21      0.19      0.20       227\n",
      "         2.0       0.27      0.20      0.23       965\n",
      "         3.0       0.35      0.31      0.33      3669\n",
      "         4.0       0.35      0.34      0.35      4761\n",
      "         5.0       0.47      0.53      0.50      5307\n",
      "\n",
      "    accuracy                           0.39     14929\n",
      "   macro avg       0.33      0.32      0.32     14929\n",
      "weighted avg       0.38      0.39      0.39     14929\n",
      "\n"
     ]
    }
   ],
   "source": [
    "print('train:')\n",
    "print(classification_report(mc_train_tfidf_Y, mc_pred_train_tfidf_Y))\n",
    "print('test:')\n",
    "print(classification_report(mc_test_tfidf_Y, mc_pred_test_tfidf_Y))"
   ]
  },
  {
   "cell_type": "markdown",
   "metadata": {},
   "source": [
    "We see that accuracy for this dataset is better using TF-IDF than using our original model, and all classes of quality ratings at least had some accurate predictions."
   ]
  },
  {
   "cell_type": "markdown",
   "metadata": {},
   "source": [
    "Let's try the same TF-IDF model and process on Renttherunway data."
   ]
  },
  {
   "cell_type": "markdown",
   "metadata": {},
   "source": [
    "Drop NaN rows and get `X` and `y` split, then split into train and test sets."
   ]
  },
  {
   "cell_type": "code",
   "execution_count": 69,
   "metadata": {},
   "outputs": [],
   "source": [
    "text_rtr_df = rtr_df.dropna(subset = ['review_text', 'rating'])\n",
    "\n",
    "rtr_tfidf_X = tfidf.fit_transform(text_rtr_df['review_text']).toarray()\n",
    "rtr_Y = text_rtr_df['rating']"
   ]
  },
  {
   "cell_type": "code",
   "execution_count": 74,
   "metadata": {},
   "outputs": [],
   "source": [
    "rtr_train_tfidf_X, rtr_test_tfidf_X, rtr_train_tfidf_Y, rtr_test_tfidf_Y = train_test_split(\n",
    "    rtr_tfidf_X, rtr_Y, test_size=0.2, random_state=200)"
   ]
  },
  {
   "cell_type": "markdown",
   "metadata": {},
   "source": [
    "Fit the same prediction model on train data, then predict rating from the model."
   ]
  },
  {
   "cell_type": "code",
   "execution_count": 75,
   "metadata": {},
   "outputs": [],
   "source": [
    "rtr_tfidf_clf = train_SVM(rtr_train_tfidf_X, rtr_train_tfidf_Y)"
   ]
  },
  {
   "cell_type": "code",
   "execution_count": 76,
   "metadata": {},
   "outputs": [],
   "source": [
    "rtr_pred_train_tfidf_Y = rtr_tfidf_clf.predict(rtr_train_tfidf_X)\n",
    "rtr_pred_test_tfidf_Y = rtr_tfidf_clf.predict(rtr_test_tfidf_X)"
   ]
  },
  {
   "cell_type": "markdown",
   "metadata": {},
   "source": [
    "Get scores for train and test data."
   ]
  },
  {
   "cell_type": "code",
   "execution_count": 77,
   "metadata": {
    "scrolled": false
   },
   "outputs": [
    {
     "name": "stdout",
     "output_type": "stream",
     "text": [
      "train:\n",
      "              precision    recall  f1-score   support\n",
      "\n",
      "           2       0.45      0.37      0.41       625\n",
      "           4       0.25      0.15      0.19      1750\n",
      "           6       0.25      0.18      0.21      6712\n",
      "           8       0.45      0.40      0.42     32633\n",
      "          10       0.75      0.81      0.78     75646\n",
      "\n",
      "    accuracy                           0.65    117366\n",
      "   macro avg       0.43      0.38      0.40    117366\n",
      "weighted avg       0.63      0.65      0.64    117366\n",
      "\n",
      "test:\n",
      "              precision    recall  f1-score   support\n",
      "\n",
      "           2       0.15      0.14      0.14       161\n",
      "           4       0.14      0.08      0.10       457\n",
      "           6       0.21      0.15      0.17      1648\n",
      "           8       0.44      0.39      0.41      8220\n",
      "          10       0.74      0.81      0.77     18856\n",
      "\n",
      "    accuracy                           0.64     29342\n",
      "   macro avg       0.34      0.31      0.32     29342\n",
      "weighted avg       0.61      0.64      0.62     29342\n",
      "\n"
     ]
    }
   ],
   "source": [
    "print('train:')\n",
    "print(classification_report(rtr_train_tfidf_Y, rtr_pred_train_tfidf_Y))\n",
    "print('test:')\n",
    "print(classification_report(rtr_test_tfidf_Y, rtr_pred_test_tfidf_Y))"
   ]
  },
  {
   "cell_type": "markdown",
   "metadata": {},
   "source": [
    "Train accuracy for our original model and the TF-IDF model stayed the same, but we see an increase in the weighted average of scores. Since we want to look at more than just accuracy, this model is an improvement since it performs better overall for all classes involved."
   ]
  },
  {
   "cell_type": "markdown",
   "metadata": {},
   "source": [
    "### Sentiment Analysis\n",
    "\n",
    "Now we want to explore one more prediction model that can be used with text analysis."
   ]
  },
  {
   "cell_type": "code",
   "execution_count": 78,
   "metadata": {},
   "outputs": [
    {
     "name": "stderr",
     "output_type": "stream",
     "text": [
      "[nltk_data] Downloading package punkt to /Users/jasminelo/nltk_data...\n",
      "[nltk_data]   Package punkt is already up-to-date!\n",
      "[nltk_data] Downloading package stopwords to\n",
      "[nltk_data]     /Users/jasminelo/nltk_data...\n",
      "[nltk_data]   Package stopwords is already up-to-date!\n"
     ]
    },
    {
     "data": {
      "text/plain": [
       "True"
      ]
     },
     "execution_count": 78,
     "metadata": {},
     "output_type": "execute_result"
    }
   ],
   "source": [
    "# Download the NLTK English tokenizer and the stopwords of all languages\n",
    "nltk.download('punkt')\n",
    "nltk.download('stopwords')"
   ]
  },
  {
   "cell_type": "markdown",
   "metadata": {},
   "source": [
    "First, create the vectorizer for a Bag-of-Words model."
   ]
  },
  {
   "cell_type": "code",
   "execution_count": 79,
   "metadata": {},
   "outputs": [],
   "source": [
    "vectorizer = CountVectorizer(analyzer='word', max_features=2000, \n",
    "                             tokenizer=word_tokenize, stop_words=stopwords.words('english'))"
   ]
  },
  {
   "cell_type": "markdown",
   "metadata": {},
   "source": [
    "Drop NaN rows and split into `X` and `y` and train and test sets."
   ]
  },
  {
   "cell_type": "code",
   "execution_count": 47,
   "metadata": {},
   "outputs": [],
   "source": [
    "mc_df = modcloth_df.dropna(subset = ['review_text', 'quality'])\n",
    "\n",
    "mc_X = vectorizer.fit_transform(mc_df['review_text']).toarray()\n",
    "mc_Y = mc_df['quality']"
   ]
  },
  {
   "cell_type": "code",
   "execution_count": 48,
   "metadata": {},
   "outputs": [],
   "source": [
    "mc_train_X, mc_test_X, mc_train_Y, mc_test_Y = train_test_split(mc_X, mc_Y, test_size=0.2, random_state=200)"
   ]
  },
  {
   "cell_type": "markdown",
   "metadata": {},
   "source": [
    "Fit training data on same classifier as used in the TF-IDF model."
   ]
  },
  {
   "cell_type": "code",
   "execution_count": 50,
   "metadata": {},
   "outputs": [],
   "source": [
    "mc_clf = train_SVM(mc_train_X, mc_train_Y)"
   ]
  },
  {
   "cell_type": "code",
   "execution_count": 51,
   "metadata": {},
   "outputs": [],
   "source": [
    "mc_predicted_train_Y = mc_clf.predict(mc_train_X)\n",
    "mc_predicted_test_Y = mc_clf.predict(mc_test_X)"
   ]
  },
  {
   "cell_type": "markdown",
   "metadata": {},
   "source": [
    "Return results of precision, recall, and f1-score scores."
   ]
  },
  {
   "cell_type": "code",
   "execution_count": 52,
   "metadata": {},
   "outputs": [
    {
     "name": "stdout",
     "output_type": "stream",
     "text": [
      "train:\n",
      "              precision    recall  f1-score   support\n",
      "\n",
      "         1.0       0.63      0.41      0.50       992\n",
      "         2.0       0.37      0.28      0.32      3652\n",
      "         3.0       0.40      0.40      0.40     13925\n",
      "         4.0       0.43      0.35      0.38     19646\n",
      "         5.0       0.52      0.64      0.58     21498\n",
      "\n",
      "    accuracy                           0.46     59713\n",
      "   macro avg       0.47      0.42      0.44     59713\n",
      "weighted avg       0.46      0.46      0.46     59713\n",
      "\n",
      "test:\n",
      "              precision    recall  f1-score   support\n",
      "\n",
      "         1.0       0.28      0.24      0.26       227\n",
      "         2.0       0.29      0.20      0.24       965\n",
      "         3.0       0.37      0.35      0.36      3669\n",
      "         4.0       0.36      0.30      0.33      4761\n",
      "         5.0       0.49      0.60      0.54      5307\n",
      "\n",
      "    accuracy                           0.41     14929\n",
      "   macro avg       0.36      0.34      0.34     14929\n",
      "weighted avg       0.40      0.41      0.40     14929\n",
      "\n"
     ]
    }
   ],
   "source": [
    "print('train:')\n",
    "print(classification_report(mc_train_Y, mc_predicted_train_Y))\n",
    "print('test:')\n",
    "print(classification_report(mc_test_Y, mc_predicted_test_Y))"
   ]
  },
  {
   "cell_type": "markdown",
   "metadata": {},
   "source": [
    "We see that accuracy increased a bit from the TF-IDF model, as does the weighted average. This model performs better overall and for separate classes."
   ]
  },
  {
   "cell_type": "markdown",
   "metadata": {},
   "source": [
    "Let's try the same model on Renttherunway data."
   ]
  },
  {
   "cell_type": "markdown",
   "metadata": {},
   "source": [
    "First, we drop NaN rows and split into `X` and `y` columns to feed into the classifier."
   ]
  },
  {
   "cell_type": "code",
   "execution_count": 82,
   "metadata": {},
   "outputs": [],
   "source": [
    "text_rtr_df = rtr_df.dropna(subset = ['review_text', 'rating'])\n",
    "\n",
    "rtr_X = vectorizer.fit_transform(text_rtr_df['review_text']).toarray()\n",
    "rtr_Y = text_rtr_df['rating']"
   ]
  },
  {
   "cell_type": "markdown",
   "metadata": {},
   "source": [
    "Split data into train and test sets."
   ]
  },
  {
   "cell_type": "code",
   "execution_count": 83,
   "metadata": {},
   "outputs": [],
   "source": [
    "rtr_train_X, rtr_test_X, rtr_train_Y, rtr_test_Y = train_test_split(\n",
    "    rtr_X, rtr_Y, test_size=0.2, random_state=200)"
   ]
  },
  {
   "cell_type": "markdown",
   "metadata": {},
   "source": [
    "Fit the training data on our previously defined classifier, and predict rating for all data."
   ]
  },
  {
   "cell_type": "code",
   "execution_count": 84,
   "metadata": {},
   "outputs": [],
   "source": [
    "rtr_clf = train_SVM(rtr_train_X, rtr_train_Y)"
   ]
  },
  {
   "cell_type": "code",
   "execution_count": 85,
   "metadata": {},
   "outputs": [],
   "source": [
    "rtr_predicted_train_Y = rtr_clf.predict(rtr_train_X)\n",
    "rtr_predicted_test_Y = rtr_clf.predict(rtr_test_X)"
   ]
  },
  {
   "cell_type": "markdown",
   "metadata": {},
   "source": [
    "Return results of our new model."
   ]
  },
  {
   "cell_type": "code",
   "execution_count": 86,
   "metadata": {},
   "outputs": [
    {
     "name": "stdout",
     "output_type": "stream",
     "text": [
      "train:\n",
      "              precision    recall  f1-score   support\n",
      "\n",
      "           2       0.56      0.31      0.40       625\n",
      "           4       0.31      0.12      0.17      1750\n",
      "           6       0.29      0.17      0.22      6712\n",
      "           8       0.49      0.38      0.43     32633\n",
      "          10       0.75      0.86      0.80     75646\n",
      "\n",
      "    accuracy                           0.67    117366\n",
      "   macro avg       0.48      0.37      0.40    117366\n",
      "weighted avg       0.64      0.67      0.65    117366\n",
      "\n",
      "test:\n",
      "              precision    recall  f1-score   support\n",
      "\n",
      "           2       0.11      0.07      0.09       161\n",
      "           4       0.12      0.04      0.06       457\n",
      "           6       0.22      0.14      0.17      1648\n",
      "           8       0.46      0.35      0.40      8220\n",
      "          10       0.74      0.85      0.79     18856\n",
      "\n",
      "    accuracy                           0.65     29342\n",
      "   macro avg       0.33      0.29      0.30     29342\n",
      "weighted avg       0.62      0.65      0.63     29342\n",
      "\n"
     ]
    }
   ],
   "source": [
    "print('train:')\n",
    "print(classification_report(rtr_train_Y, rtr_predicted_train_Y))\n",
    "print('test:')\n",
    "print(classification_report(rtr_test_Y, rtr_predicted_test_Y))"
   ]
  },
  {
   "cell_type": "markdown",
   "metadata": {},
   "source": [
    "We see that accuracy has increased, as has weighted average, by a little bit. This model performed the best for both datasets."
   ]
  },
  {
   "cell_type": "markdown",
   "metadata": {},
   "source": [
    "#### Summary\n",
    "\n",
    "Our models showed that sentiment of review text best predicts the ratings a user gives an item of clothing. With our best model's accuracy ranging from 40%-60%, we can say that the model definitely found something in the review text that helped prediction, since our results from simple random chance would have been in the 10%-20% range. Our model performs around 3x better than that."
   ]
  },
  {
   "cell_type": "markdown",
   "metadata": {},
   "source": [
    "# Ethics & Privacy"
   ]
  },
  {
   "cell_type": "markdown",
   "metadata": {},
   "source": [
    "Our analysis will primarily focus on anonymized user-provided feedback, clothing ratings, and measurements. Given that much of our data will rely on self-reports, we acknowledge the potential for inaccuracies in reported measurements, such as height, weight, or body type. Detecting such inaccuracies is challenging. To mitigate this bias, we plan to analyze the data by comparing numerical values to a standardized mean rather than relying solely on self-reported figures.\n",
    "\n",
    "Additionally, since our data will likely originate from online clothing stores, it's anticipated that it will predominantly represent women. We will communicate the gender imbalance in our dataset and ensure that our analysis focuses on proportions rather than the amount of user reviews. Should there be insufficient data for men, we will explicitly state that our analysis is going to be done on women's data and trends.\n"
   ]
  },
  {
   "cell_type": "markdown",
   "metadata": {},
   "source": [
    "# Discusison and Conclusion\n",
    "\n",
    "Our project benefited significantly from prior research, particularly in guiding our data analysis and modeling decisions. Wall's study, \"Correlates of Satisfaction and Dissatisfaction With Clothing Performance,\" provided valuable insights into which aspects of our datasets warranted focus. This informed our data cleaning process and prioritization of essential measurements for addressing our research question. Additionally, the paper \"Decomposing Fit Semantics for Product Size Recommendation in Metric Spaces\" offered insights into suitable prediction models for our inquiry, shaping our research setup and data selection.\n",
    "\n",
    "Our research question centered on key factors: ratings, feedback and length, and body measurements. We focused exclusively on these elements during data cleaning. During exploratory data analysis, our initial focus was on understanding the impact of body measurements and customer ratings. We examined variables such as clothing size, height, weight, waist measurement, and body type from both Modcloth and Renttherunway datasets. Surprisingly, we found these customer characteristics did not significantly influence satisfaction ratings, indicating a partial answer to our research question.\n",
    "\n",
    "Specifically, our analysis revealed that clothing fit satisfaction did not exhibit a substantial association with customer body measurements.\n",
    "In alignment with our research question, we also investigated the relationship between reviews and customer satisfaction. This required the development of predictive models. While review length failed to yield a substantive correlation, among the array of models we tested, sentiment analysis emerged as the most promising. With the Modcloth dataset, our analysis achieved an accuracy ranging from 41% to 46% in predicting ratings based on reviews. Similarly, with the Renttherunway dataset, our model demonstrated even greater accuracy, ranging between 63% and 65%. These outcomes underscore the efficacy of sentiment analysis in discerning underlying sentiments and their impact on customer satisfaction across different platforms.\n",
    "\n",
    "In summary, our findings indicate a considerable association between clothing fit satisfaction and customer-provided reviews.\n",
    "\n",
    "In retrospect, conducting this study proved to be thought-provoking. Initially, our group hypothesized potential correlations between body measurements and fit satisfaction, yet our findings did not support this assumption. Surprisingly, we also observed that review length did not exhibit a consistent and robust correlation with ratings. These unexpected outcomes led us to the realization that our initial research question was largely disproven. Although we were originally focused on feedback length, our sentiment analysis provided the strongest accuracy in our models. This suggests that feedback content was more valuable than feedback length when predicting customer satisfaction.\n",
    "\n",
    "Despite our assumptions, the empirical evidence revealed a different narrative than anticipated. This outcome underscores the importance of empirical investigation and highlights the complexity inherent in understanding customer satisfaction dynamics within the realm of clothing fit. While unexpected, these findings contribute valuable insights to the broader discourse surrounding consumer behavior and product satisfaction."
   ]
  }
 ],
 "metadata": {
  "interpreter": {
   "hash": "aee8b7b246df8f9039afb4144a1f6fd8d2ca17a180786b69acc140d282b71a49"
  },
  "kernelspec": {
   "display_name": "Python 3 (ipykernel)",
   "language": "python",
   "name": "python3"
  },
  "language_info": {
   "codemirror_mode": {
    "name": "ipython",
    "version": 3
   },
   "file_extension": ".py",
   "mimetype": "text/x-python",
   "name": "python",
   "nbconvert_exporter": "python",
   "pygments_lexer": "ipython3",
   "version": "3.8.18"
  }
 },
 "nbformat": 4,
 "nbformat_minor": 2
}
